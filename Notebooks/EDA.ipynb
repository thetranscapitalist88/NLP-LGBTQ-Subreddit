{
 "cells": [
  {
   "cell_type": "markdown",
   "metadata": {},
   "source": [
    "# Exploratory Data Analysis"
   ]
  },
  {
   "cell_type": "markdown",
   "metadata": {},
   "source": [
    "# Import Libraries"
   ]
  },
  {
   "cell_type": "code",
   "execution_count": 2,
   "metadata": {},
   "outputs": [],
   "source": [
    "import pandas as pd\n",
    "import numpy as np\n",
    "import matplotlib.pyplot as plt\n",
    "import seaborn as sns\n",
    "\n",
    "from sklearn.model_selection import train_test_split, GridSearchCV\n",
    "from sklearn.linear_model import LinearRegression, Ridge, Lasso, ElasticNet, LogisticRegression \n",
    "from sklearn.impute import SimpleImputer\n",
    "from sklearn.neighbors import KNeighborsClassifier\n",
    "from sklearn.compose import make_column_transformer\n",
    "from sklearn.pipeline import Pipeline, make_pipeline\n",
    "from sklearn.preprocessing import OneHotEncoder, StandardScaler, PolynomialFeatures\n",
    "from sklearn.feature_selection import RFE\n",
    "from sklearn.metrics import mean_squared_error, mean_absolute_error, r2_score"
   ]
  },
  {
   "cell_type": "markdown",
   "metadata": {},
   "source": [
    "# Read in the data sets"
   ]
  },
  {
   "cell_type": "code",
   "execution_count": 3,
   "metadata": {},
   "outputs": [
    {
     "data": {
      "text/html": [
       "<div>\n",
       "<style scoped>\n",
       "    .dataframe tbody tr th:only-of-type {\n",
       "        vertical-align: middle;\n",
       "    }\n",
       "\n",
       "    .dataframe tbody tr th {\n",
       "        vertical-align: top;\n",
       "    }\n",
       "\n",
       "    .dataframe thead th {\n",
       "        text-align: right;\n",
       "    }\n",
       "</style>\n",
       "<table border=\"1\" class=\"dataframe\">\n",
       "  <thead>\n",
       "    <tr style=\"text-align: right;\">\n",
       "      <th></th>\n",
       "      <th>title</th>\n",
       "      <th>auth</th>\n",
       "      <th>subreddit</th>\n",
       "      <th>text</th>\n",
       "    </tr>\n",
       "  </thead>\n",
       "  <tbody>\n",
       "    <tr>\n",
       "      <th>0</th>\n",
       "      <td>What's the difference between transitioning wo...</td>\n",
       "      <td>SnooChocolates8273</td>\n",
       "      <td>asktransgender</td>\n",
       "      <td>When I look at a beautiful woman I see a beaut...</td>\n",
       "    </tr>\n",
       "    <tr>\n",
       "      <th>1</th>\n",
       "      <td>Did you also have this?</td>\n",
       "      <td>HoldTheStocks2</td>\n",
       "      <td>asktransgender</td>\n",
       "      <td>When I was like 10-14 I was searching all over...</td>\n",
       "    </tr>\n",
       "    <tr>\n",
       "      <th>2</th>\n",
       "      <td>How many times a week do you dilatate?</td>\n",
       "      <td>Kind_Lemon</td>\n",
       "      <td>asktransgender</td>\n",
       "      <td>Hello!\\n\\nI am seven years post-surgical MtF, ...</td>\n",
       "    </tr>\n",
       "    <tr>\n",
       "      <th>3</th>\n",
       "      <td>Coming out to my mother (again)</td>\n",
       "      <td>mwnahas</td>\n",
       "      <td>asktransgender</td>\n",
       "      <td>Ive already done it about 1.5 years ago. She w...</td>\n",
       "    </tr>\n",
       "    <tr>\n",
       "      <th>4</th>\n",
       "      <td>Foot hurts is it hrt</td>\n",
       "      <td>Anastasia69Sanchez</td>\n",
       "      <td>asktransgender</td>\n",
       "      <td>I heard foot gets smaller . Idk if I'm getting...</td>\n",
       "    </tr>\n",
       "  </tbody>\n",
       "</table>\n",
       "</div>"
      ],
      "text/plain": [
       "                                               title                auth  \\\n",
       "0  What's the difference between transitioning wo...  SnooChocolates8273   \n",
       "1                            Did you also have this?      HoldTheStocks2   \n",
       "2             How many times a week do you dilatate?          Kind_Lemon   \n",
       "3                    Coming out to my mother (again)             mwnahas   \n",
       "4                               Foot hurts is it hrt  Anastasia69Sanchez   \n",
       "\n",
       "        subreddit                                               text  \n",
       "0  asktransgender  When I look at a beautiful woman I see a beaut...  \n",
       "1  asktransgender  When I was like 10-14 I was searching all over...  \n",
       "2  asktransgender  Hello!\\n\\nI am seven years post-surgical MtF, ...  \n",
       "3  asktransgender  Ive already done it about 1.5 years ago. She w...  \n",
       "4  asktransgender  I heard foot gets smaller . Idk if I'm getting...  "
      ]
     },
     "execution_count": 3,
     "metadata": {},
     "output_type": "execute_result"
    }
   ],
   "source": [
    "#Import Dataframes\n",
    "ask_trans = pd.read_csv('/Users/khalildavis/Desktop/General Assembly Work/Submissions/Projects/project-3-master/Project 3 Submission/Data/asktrans_clean.csv')\n",
    "ask_trans.head()"
   ]
  },
  {
   "cell_type": "code",
   "execution_count": 4,
   "metadata": {},
   "outputs": [
    {
     "data": {
      "text/html": [
       "<div>\n",
       "<style scoped>\n",
       "    .dataframe tbody tr th:only-of-type {\n",
       "        vertical-align: middle;\n",
       "    }\n",
       "\n",
       "    .dataframe tbody tr th {\n",
       "        vertical-align: top;\n",
       "    }\n",
       "\n",
       "    .dataframe thead th {\n",
       "        text-align: right;\n",
       "    }\n",
       "</style>\n",
       "<table border=\"1\" class=\"dataframe\">\n",
       "  <thead>\n",
       "    <tr style=\"text-align: right;\">\n",
       "      <th></th>\n",
       "      <th>title</th>\n",
       "      <th>auth</th>\n",
       "      <th>subreddit</th>\n",
       "      <th>text</th>\n",
       "    </tr>\n",
       "  </thead>\n",
       "  <tbody>\n",
       "    <tr>\n",
       "      <th>count</th>\n",
       "      <td>6289</td>\n",
       "      <td>6289</td>\n",
       "      <td>6289</td>\n",
       "      <td>6289</td>\n",
       "    </tr>\n",
       "    <tr>\n",
       "      <th>unique</th>\n",
       "      <td>6215</td>\n",
       "      <td>4518</td>\n",
       "      <td>1</td>\n",
       "      <td>6251</td>\n",
       "    </tr>\n",
       "    <tr>\n",
       "      <th>top</th>\n",
       "      <td>Am I trans?</td>\n",
       "      <td>Aware_Release_2886</td>\n",
       "      <td>asktransgender</td>\n",
       "      <td>Title</td>\n",
       "    </tr>\n",
       "    <tr>\n",
       "      <th>freq</th>\n",
       "      <td>11</td>\n",
       "      <td>38</td>\n",
       "      <td>6289</td>\n",
       "      <td>7</td>\n",
       "    </tr>\n",
       "  </tbody>\n",
       "</table>\n",
       "</div>"
      ],
      "text/plain": [
       "              title                auth       subreddit   text\n",
       "count          6289                6289            6289   6289\n",
       "unique         6215                4518               1   6251\n",
       "top     Am I trans?  Aware_Release_2886  asktransgender  Title\n",
       "freq             11                  38            6289      7"
      ]
     },
     "execution_count": 4,
     "metadata": {},
     "output_type": "execute_result"
    }
   ],
   "source": [
    "ask_trans.describe()"
   ]
  },
  {
   "cell_type": "code",
   "execution_count": 5,
   "metadata": {},
   "outputs": [
    {
     "name": "stdout",
     "output_type": "stream",
     "text": [
      "<class 'pandas.core.frame.DataFrame'>\n",
      "RangeIndex: 6289 entries, 0 to 6288\n",
      "Data columns (total 4 columns):\n",
      " #   Column     Non-Null Count  Dtype \n",
      "---  ------     --------------  ----- \n",
      " 0   title      6289 non-null   object\n",
      " 1   auth       6289 non-null   object\n",
      " 2   subreddit  6289 non-null   object\n",
      " 3   text       6289 non-null   object\n",
      "dtypes: object(4)\n",
      "memory usage: 196.7+ KB\n"
     ]
    }
   ],
   "source": [
    "ask_trans.info()"
   ]
  },
  {
   "cell_type": "code",
   "execution_count": 6,
   "metadata": {},
   "outputs": [
    {
     "data": {
      "text/html": [
       "<div>\n",
       "<style scoped>\n",
       "    .dataframe tbody tr th:only-of-type {\n",
       "        vertical-align: middle;\n",
       "    }\n",
       "\n",
       "    .dataframe tbody tr th {\n",
       "        vertical-align: top;\n",
       "    }\n",
       "\n",
       "    .dataframe thead th {\n",
       "        text-align: right;\n",
       "    }\n",
       "</style>\n",
       "<table border=\"1\" class=\"dataframe\">\n",
       "  <thead>\n",
       "    <tr style=\"text-align: right;\">\n",
       "      <th></th>\n",
       "      <th>title</th>\n",
       "      <th>auth</th>\n",
       "      <th>subreddit</th>\n",
       "      <th>text</th>\n",
       "    </tr>\n",
       "  </thead>\n",
       "  <tbody>\n",
       "    <tr>\n",
       "      <th>0</th>\n",
       "      <td>I created an Omegle Clone that actually helps ...</td>\n",
       "      <td>lolroofus</td>\n",
       "      <td>ainbow</td>\n",
       "      <td></td>\n",
       "    </tr>\n",
       "    <tr>\n",
       "      <th>1</th>\n",
       "      <td>My boyfriend came out to me as bi</td>\n",
       "      <td>glassAdvertiser</td>\n",
       "      <td>ainbow</td>\n",
       "      <td>Hi everyone, I really need some advice! \\n\\nMy...</td>\n",
       "    </tr>\n",
       "    <tr>\n",
       "      <th>2</th>\n",
       "      <td>A celebration of a queen</td>\n",
       "      <td>Max_E_Mas</td>\n",
       "      <td>ainbow</td>\n",
       "      <td>If you are not up to date on Jeopardy I sugges...</td>\n",
       "    </tr>\n",
       "    <tr>\n",
       "      <th>3</th>\n",
       "      <td>Thank you, old queer people</td>\n",
       "      <td>Wonderful_Toes</td>\n",
       "      <td>ainbow</td>\n",
       "      <td>Thank you for the chance you've given so many ...</td>\n",
       "    </tr>\n",
       "    <tr>\n",
       "      <th>4</th>\n",
       "      <td>Did any of you actively avoid LGBTQ things/peo...</td>\n",
       "      <td>ivegotyoupegged</td>\n",
       "      <td>ainbow</td>\n",
       "      <td>I've had this issue for the better part of a y...</td>\n",
       "    </tr>\n",
       "  </tbody>\n",
       "</table>\n",
       "</div>"
      ],
      "text/plain": [
       "                                               title             auth  \\\n",
       "0  I created an Omegle Clone that actually helps ...        lolroofus   \n",
       "1                  My boyfriend came out to me as bi  glassAdvertiser   \n",
       "2                           A celebration of a queen        Max_E_Mas   \n",
       "3                       Thank you, old queer people    Wonderful_Toes   \n",
       "4  Did any of you actively avoid LGBTQ things/peo...  ivegotyoupegged   \n",
       "\n",
       "  subreddit                                               text  \n",
       "0    ainbow                                                     \n",
       "1    ainbow  Hi everyone, I really need some advice! \\n\\nMy...  \n",
       "2    ainbow  If you are not up to date on Jeopardy I sugges...  \n",
       "3    ainbow  Thank you for the chance you've given so many ...  \n",
       "4    ainbow  I've had this issue for the better part of a y...  "
      ]
     },
     "execution_count": 6,
     "metadata": {},
     "output_type": "execute_result"
    }
   ],
   "source": [
    "rainbow = pd.read_csv('/Users/khalildavis/Desktop/General Assembly Work/Submissions/Projects/project-3-master/rainbow_clean.csv')\n",
    "rainbow.head()"
   ]
  },
  {
   "cell_type": "code",
   "execution_count": 7,
   "metadata": {},
   "outputs": [
    {
     "data": {
      "text/html": [
       "<div>\n",
       "<style scoped>\n",
       "    .dataframe tbody tr th:only-of-type {\n",
       "        vertical-align: middle;\n",
       "    }\n",
       "\n",
       "    .dataframe tbody tr th {\n",
       "        vertical-align: top;\n",
       "    }\n",
       "\n",
       "    .dataframe thead th {\n",
       "        text-align: right;\n",
       "    }\n",
       "</style>\n",
       "<table border=\"1\" class=\"dataframe\">\n",
       "  <thead>\n",
       "    <tr style=\"text-align: right;\">\n",
       "      <th></th>\n",
       "      <th>title</th>\n",
       "      <th>auth</th>\n",
       "      <th>subreddit</th>\n",
       "      <th>text</th>\n",
       "    </tr>\n",
       "  </thead>\n",
       "  <tbody>\n",
       "    <tr>\n",
       "      <th>count</th>\n",
       "      <td>6010</td>\n",
       "      <td>6029</td>\n",
       "      <td>6029</td>\n",
       "      <td>6029</td>\n",
       "    </tr>\n",
       "    <tr>\n",
       "      <th>unique</th>\n",
       "      <td>5869</td>\n",
       "      <td>3315</td>\n",
       "      <td>1</td>\n",
       "      <td>2111</td>\n",
       "    </tr>\n",
       "    <tr>\n",
       "      <th>top</th>\n",
       "      <td>Join the mLab study!</td>\n",
       "      <td>bi_dad48</td>\n",
       "      <td>ainbow</td>\n",
       "      <td></td>\n",
       "    </tr>\n",
       "    <tr>\n",
       "      <th>freq</th>\n",
       "      <td>9</td>\n",
       "      <td>271</td>\n",
       "      <td>6029</td>\n",
       "      <td>3902</td>\n",
       "    </tr>\n",
       "  </tbody>\n",
       "</table>\n",
       "</div>"
      ],
      "text/plain": [
       "                       title      auth subreddit  text\n",
       "count                   6010      6029      6029  6029\n",
       "unique                  5869      3315         1  2111\n",
       "top     Join the mLab study!  bi_dad48    ainbow      \n",
       "freq                       9       271      6029  3902"
      ]
     },
     "execution_count": 7,
     "metadata": {},
     "output_type": "execute_result"
    }
   ],
   "source": [
    "rainbow.describe()"
   ]
  },
  {
   "cell_type": "code",
   "execution_count": 4,
   "metadata": {},
   "outputs": [
    {
     "data": {
      "text/html": [
       "<div>\n",
       "<style scoped>\n",
       "    .dataframe tbody tr th:only-of-type {\n",
       "        vertical-align: middle;\n",
       "    }\n",
       "\n",
       "    .dataframe tbody tr th {\n",
       "        vertical-align: top;\n",
       "    }\n",
       "\n",
       "    .dataframe thead th {\n",
       "        text-align: right;\n",
       "    }\n",
       "</style>\n",
       "<table border=\"1\" class=\"dataframe\">\n",
       "  <thead>\n",
       "    <tr style=\"text-align: right;\">\n",
       "      <th></th>\n",
       "      <th>title</th>\n",
       "      <th>auth</th>\n",
       "      <th>subreddit</th>\n",
       "      <th>text</th>\n",
       "      <th>is_asktransgender</th>\n",
       "    </tr>\n",
       "  </thead>\n",
       "  <tbody>\n",
       "    <tr>\n",
       "      <th>0</th>\n",
       "      <td>What's the difference between transitioning wo...</td>\n",
       "      <td>SnooChocolates8273</td>\n",
       "      <td>asktransgender</td>\n",
       "      <td>When I look at a beautiful woman I see a beaut...</td>\n",
       "      <td>1</td>\n",
       "    </tr>\n",
       "    <tr>\n",
       "      <th>1</th>\n",
       "      <td>Did you also have this?</td>\n",
       "      <td>HoldTheStocks2</td>\n",
       "      <td>asktransgender</td>\n",
       "      <td>When I was like 10-14 I was searching all over...</td>\n",
       "      <td>1</td>\n",
       "    </tr>\n",
       "    <tr>\n",
       "      <th>2</th>\n",
       "      <td>How many times a week do you dilatate?</td>\n",
       "      <td>Kind_Lemon</td>\n",
       "      <td>asktransgender</td>\n",
       "      <td>Hello!\\n\\nI am seven years post-surgical MtF, ...</td>\n",
       "      <td>1</td>\n",
       "    </tr>\n",
       "    <tr>\n",
       "      <th>3</th>\n",
       "      <td>Coming out to my mother (again)</td>\n",
       "      <td>mwnahas</td>\n",
       "      <td>asktransgender</td>\n",
       "      <td>Ive already done it about 1.5 years ago. She w...</td>\n",
       "      <td>1</td>\n",
       "    </tr>\n",
       "    <tr>\n",
       "      <th>4</th>\n",
       "      <td>Foot hurts is it hrt</td>\n",
       "      <td>Anastasia69Sanchez</td>\n",
       "      <td>asktransgender</td>\n",
       "      <td>I heard foot gets smaller . Idk if I'm getting...</td>\n",
       "      <td>1</td>\n",
       "    </tr>\n",
       "  </tbody>\n",
       "</table>\n",
       "</div>"
      ],
      "text/plain": [
       "                                               title                auth  \\\n",
       "0  What's the difference between transitioning wo...  SnooChocolates8273   \n",
       "1                            Did you also have this?      HoldTheStocks2   \n",
       "2             How many times a week do you dilatate?          Kind_Lemon   \n",
       "3                    Coming out to my mother (again)             mwnahas   \n",
       "4                               Foot hurts is it hrt  Anastasia69Sanchez   \n",
       "\n",
       "        subreddit                                               text  \\\n",
       "0  asktransgender  When I look at a beautiful woman I see a beaut...   \n",
       "1  asktransgender  When I was like 10-14 I was searching all over...   \n",
       "2  asktransgender  Hello!\\n\\nI am seven years post-surgical MtF, ...   \n",
       "3  asktransgender  Ive already done it about 1.5 years ago. She w...   \n",
       "4  asktransgender  I heard foot gets smaller . Idk if I'm getting...   \n",
       "\n",
       "   is_asktransgender  \n",
       "0                  1  \n",
       "1                  1  \n",
       "2                  1  \n",
       "3                  1  \n",
       "4                  1  "
      ]
     },
     "execution_count": 4,
     "metadata": {},
     "output_type": "execute_result"
    }
   ],
   "source": [
    "combo_clean = pd.read_csv('/Users/khalildavis/Desktop/General Assembly Work/Submissions/Projects/project-3-master/Project 3 Submission/Data/combo_clean.csv')\n",
    "combo_clean.head()"
   ]
  },
  {
   "cell_type": "markdown",
   "metadata": {},
   "source": [
    "# Data Descriptions"
   ]
  },
  {
   "cell_type": "code",
   "execution_count": 9,
   "metadata": {},
   "outputs": [
    {
     "data": {
      "text/plain": [
       "count        12299\n",
       "unique       12061\n",
       "top       Question\n",
       "freq            13\n",
       "Name: title, dtype: object"
      ]
     },
     "execution_count": 9,
     "metadata": {},
     "output_type": "execute_result"
    }
   ],
   "source": [
    "combo_clean['title'].describe()"
   ]
  },
  {
   "cell_type": "code",
   "execution_count": 10,
   "metadata": {},
   "outputs": [
    {
     "data": {
      "text/plain": [
       "count            6289\n",
       "unique           6215\n",
       "top       Am I trans?\n",
       "freq               11\n",
       "Name: title, dtype: object"
      ]
     },
     "execution_count": 10,
     "metadata": {},
     "output_type": "execute_result"
    }
   ],
   "source": [
    "ask_trans['title'].describe()"
   ]
  },
  {
   "cell_type": "code",
   "execution_count": 11,
   "metadata": {},
   "outputs": [
    {
     "data": {
      "text/plain": [
       "count                     6010\n",
       "unique                    5869\n",
       "top       Join the mLab study!\n",
       "freq                         9\n",
       "Name: title, dtype: object"
      ]
     },
     "execution_count": 11,
     "metadata": {},
     "output_type": "execute_result"
    }
   ],
   "source": [
    "rainbow['title'].describe()"
   ]
  },
  {
   "cell_type": "code",
   "execution_count": 13,
   "metadata": {},
   "outputs": [
    {
     "data": {
      "text/html": [
       "<div>\n",
       "<style scoped>\n",
       "    .dataframe tbody tr th:only-of-type {\n",
       "        vertical-align: middle;\n",
       "    }\n",
       "\n",
       "    .dataframe tbody tr th {\n",
       "        vertical-align: top;\n",
       "    }\n",
       "\n",
       "    .dataframe thead th {\n",
       "        text-align: right;\n",
       "    }\n",
       "</style>\n",
       "<table border=\"1\" class=\"dataframe\">\n",
       "  <thead>\n",
       "    <tr style=\"text-align: right;\">\n",
       "      <th></th>\n",
       "      <th>title</th>\n",
       "      <th>auth</th>\n",
       "      <th>subreddit</th>\n",
       "      <th>text</th>\n",
       "      <th>is_asktransgender</th>\n",
       "      <th>title_length</th>\n",
       "    </tr>\n",
       "  </thead>\n",
       "  <tbody>\n",
       "    <tr>\n",
       "      <th>0</th>\n",
       "      <td>What's the difference between transitioning wo...</td>\n",
       "      <td>SnooChocolates8273</td>\n",
       "      <td>asktransgender</td>\n",
       "      <td>When I look at a beautiful woman I see a beaut...</td>\n",
       "      <td>1</td>\n",
       "      <td>66.0</td>\n",
       "    </tr>\n",
       "    <tr>\n",
       "      <th>1</th>\n",
       "      <td>Did you also have this?</td>\n",
       "      <td>HoldTheStocks2</td>\n",
       "      <td>asktransgender</td>\n",
       "      <td>When I was like 10-14 I was searching all over...</td>\n",
       "      <td>1</td>\n",
       "      <td>23.0</td>\n",
       "    </tr>\n",
       "    <tr>\n",
       "      <th>2</th>\n",
       "      <td>How many times a week do you dilatate?</td>\n",
       "      <td>Kind_Lemon</td>\n",
       "      <td>asktransgender</td>\n",
       "      <td>Hello!\\n\\nI am seven years post-surgical MtF, ...</td>\n",
       "      <td>1</td>\n",
       "      <td>38.0</td>\n",
       "    </tr>\n",
       "    <tr>\n",
       "      <th>3</th>\n",
       "      <td>Coming out to my mother (again)</td>\n",
       "      <td>mwnahas</td>\n",
       "      <td>asktransgender</td>\n",
       "      <td>Ive already done it about 1.5 years ago. She w...</td>\n",
       "      <td>1</td>\n",
       "      <td>31.0</td>\n",
       "    </tr>\n",
       "    <tr>\n",
       "      <th>4</th>\n",
       "      <td>Foot hurts is it hrt</td>\n",
       "      <td>Anastasia69Sanchez</td>\n",
       "      <td>asktransgender</td>\n",
       "      <td>I heard foot gets smaller . Idk if I'm getting...</td>\n",
       "      <td>1</td>\n",
       "      <td>20.0</td>\n",
       "    </tr>\n",
       "  </tbody>\n",
       "</table>\n",
       "</div>"
      ],
      "text/plain": [
       "                                               title                auth  \\\n",
       "0  What's the difference between transitioning wo...  SnooChocolates8273   \n",
       "1                            Did you also have this?      HoldTheStocks2   \n",
       "2             How many times a week do you dilatate?          Kind_Lemon   \n",
       "3                    Coming out to my mother (again)             mwnahas   \n",
       "4                               Foot hurts is it hrt  Anastasia69Sanchez   \n",
       "\n",
       "        subreddit                                               text  \\\n",
       "0  asktransgender  When I look at a beautiful woman I see a beaut...   \n",
       "1  asktransgender  When I was like 10-14 I was searching all over...   \n",
       "2  asktransgender  Hello!\\n\\nI am seven years post-surgical MtF, ...   \n",
       "3  asktransgender  Ive already done it about 1.5 years ago. She w...   \n",
       "4  asktransgender  I heard foot gets smaller . Idk if I'm getting...   \n",
       "\n",
       "   is_asktransgender  title_length  \n",
       "0                  1          66.0  \n",
       "1                  1          23.0  \n",
       "2                  1          38.0  \n",
       "3                  1          31.0  \n",
       "4                  1          20.0  "
      ]
     },
     "execution_count": 13,
     "metadata": {},
     "output_type": "execute_result"
    }
   ],
   "source": [
    "combo_clean['title_length'] = combo_clean['title'].str.len()\n",
    "combo_clean.head()"
   ]
  },
  {
   "cell_type": "code",
   "execution_count": 14,
   "metadata": {},
   "outputs": [
    {
     "data": {
      "text/plain": [
       "740734.0"
      ]
     },
     "execution_count": 14,
     "metadata": {},
     "output_type": "execute_result"
    }
   ],
   "source": [
    "combo_clean['title_length'].sum()\n"
   ]
  },
  {
   "cell_type": "code",
   "execution_count": null,
   "metadata": {},
   "outputs": [],
   "source": []
  },
  {
   "cell_type": "code",
   "execution_count": 15,
   "metadata": {},
   "outputs": [
    {
     "data": {
      "text/html": [
       "<div>\n",
       "<style scoped>\n",
       "    .dataframe tbody tr th:only-of-type {\n",
       "        vertical-align: middle;\n",
       "    }\n",
       "\n",
       "    .dataframe tbody tr th {\n",
       "        vertical-align: top;\n",
       "    }\n",
       "\n",
       "    .dataframe thead th {\n",
       "        text-align: right;\n",
       "    }\n",
       "</style>\n",
       "<table border=\"1\" class=\"dataframe\">\n",
       "  <thead>\n",
       "    <tr style=\"text-align: right;\">\n",
       "      <th></th>\n",
       "      <th>title</th>\n",
       "      <th>auth</th>\n",
       "      <th>subreddit</th>\n",
       "      <th>text</th>\n",
       "      <th>is_asktransgender</th>\n",
       "      <th>title_length</th>\n",
       "    </tr>\n",
       "  </thead>\n",
       "  <tbody>\n",
       "    <tr>\n",
       "      <th>12103</th>\n",
       "      <td>Being trans in America is hell. Its nothing sh...</td>\n",
       "      <td>Madie_Evelyn</td>\n",
       "      <td>ainbow</td>\n",
       "      <td></td>\n",
       "      <td>0</td>\n",
       "      <td>309.0</td>\n",
       "    </tr>\n",
       "    <tr>\n",
       "      <th>7063</th>\n",
       "      <td>[An Exploration Into the Conflicts of Gender D...</td>\n",
       "      <td>sisimurra</td>\n",
       "      <td>ainbow</td>\n",
       "      <td></td>\n",
       "      <td>0</td>\n",
       "      <td>303.0</td>\n",
       "    </tr>\n",
       "    <tr>\n",
       "      <th>6556</th>\n",
       "      <td>Ho Ho Ho! If you want to listen to a Queer Hol...</td>\n",
       "      <td>Derryzumi</td>\n",
       "      <td>ainbow</td>\n",
       "      <td></td>\n",
       "      <td>0</td>\n",
       "      <td>302.0</td>\n",
       "    </tr>\n",
       "    <tr>\n",
       "      <th>7467</th>\n",
       "      <td>qFlix Phily premiers 'Jump, Darling' - With qF...</td>\n",
       "      <td>PhillyGayCalendar</td>\n",
       "      <td>ainbow</td>\n",
       "      <td></td>\n",
       "      <td>0</td>\n",
       "      <td>301.0</td>\n",
       "    </tr>\n",
       "    <tr>\n",
       "      <th>8907</th>\n",
       "      <td>If you're looking for a queer as hell D&amp;amp;D ...</td>\n",
       "      <td>Derryzumi</td>\n",
       "      <td>ainbow</td>\n",
       "      <td></td>\n",
       "      <td>0</td>\n",
       "      <td>301.0</td>\n",
       "    </tr>\n",
       "    <tr>\n",
       "      <th>1728</th>\n",
       "      <td>Is it considered offensive to use gender neutr...</td>\n",
       "      <td>sheepysheep55</td>\n",
       "      <td>asktransgender</td>\n",
       "      <td>I wasn't trying to offend anyone, I just don't...</td>\n",
       "      <td>1</td>\n",
       "      <td>300.0</td>\n",
       "    </tr>\n",
       "    <tr>\n",
       "      <th>4854</th>\n",
       "      <td>Does anyone have any recommendations for philo...</td>\n",
       "      <td>NightOnFuckMountain</td>\n",
       "      <td>asktransgender</td>\n",
       "      <td>Full disclosure I'm not trans, I am intersex; ...</td>\n",
       "      <td>1</td>\n",
       "      <td>300.0</td>\n",
       "    </tr>\n",
       "    <tr>\n",
       "      <th>5090</th>\n",
       "      <td>Felt physically sick reading an article publis...</td>\n",
       "      <td>AutumnTheTired</td>\n",
       "      <td>asktransgender</td>\n",
       "      <td>As always I fell victim to reading the comment...</td>\n",
       "      <td>1</td>\n",
       "      <td>300.0</td>\n",
       "    </tr>\n",
       "    <tr>\n",
       "      <th>6764</th>\n",
       "      <td>This gay brother is still in much pain for mon...</td>\n",
       "      <td>Winny256</td>\n",
       "      <td>ainbow</td>\n",
       "      <td></td>\n",
       "      <td>0</td>\n",
       "      <td>300.0</td>\n",
       "    </tr>\n",
       "    <tr>\n",
       "      <th>6831</th>\n",
       "      <td>I Need help to do more natural poses. How shou...</td>\n",
       "      <td>pasi_kristian</td>\n",
       "      <td>ainbow</td>\n",
       "      <td></td>\n",
       "      <td>0</td>\n",
       "      <td>300.0</td>\n",
       "    </tr>\n",
       "  </tbody>\n",
       "</table>\n",
       "</div>"
      ],
      "text/plain": [
       "                                                   title                 auth  \\\n",
       "12103  Being trans in America is hell. Its nothing sh...         Madie_Evelyn   \n",
       "7063   [An Exploration Into the Conflicts of Gender D...            sisimurra   \n",
       "6556   Ho Ho Ho! If you want to listen to a Queer Hol...            Derryzumi   \n",
       "7467   qFlix Phily premiers 'Jump, Darling' - With qF...    PhillyGayCalendar   \n",
       "8907   If you're looking for a queer as hell D&amp;D ...            Derryzumi   \n",
       "1728   Is it considered offensive to use gender neutr...        sheepysheep55   \n",
       "4854   Does anyone have any recommendations for philo...  NightOnFuckMountain   \n",
       "5090   Felt physically sick reading an article publis...       AutumnTheTired   \n",
       "6764   This gay brother is still in much pain for mon...             Winny256   \n",
       "6831   I Need help to do more natural poses. How shou...        pasi_kristian   \n",
       "\n",
       "            subreddit                                               text  \\\n",
       "12103          ainbow                                                      \n",
       "7063           ainbow                                                      \n",
       "6556           ainbow                                                      \n",
       "7467           ainbow                                                      \n",
       "8907           ainbow                                                      \n",
       "1728   asktransgender  I wasn't trying to offend anyone, I just don't...   \n",
       "4854   asktransgender  Full disclosure I'm not trans, I am intersex; ...   \n",
       "5090   asktransgender  As always I fell victim to reading the comment...   \n",
       "6764           ainbow                                                      \n",
       "6831           ainbow                                                      \n",
       "\n",
       "       is_asktransgender  title_length  \n",
       "12103                  0         309.0  \n",
       "7063                   0         303.0  \n",
       "6556                   0         302.0  \n",
       "7467                   0         301.0  \n",
       "8907                   0         301.0  \n",
       "1728                   1         300.0  \n",
       "4854                   1         300.0  \n",
       "5090                   1         300.0  \n",
       "6764                   0         300.0  \n",
       "6831                   0         300.0  "
      ]
     },
     "execution_count": 15,
     "metadata": {},
     "output_type": "execute_result"
    }
   ],
   "source": [
    "combo_clean.nlargest(10, 'title_length')"
   ]
  },
  {
   "cell_type": "code",
   "execution_count": 16,
   "metadata": {},
   "outputs": [
    {
     "data": {
      "text/html": [
       "<div>\n",
       "<style scoped>\n",
       "    .dataframe tbody tr th:only-of-type {\n",
       "        vertical-align: middle;\n",
       "    }\n",
       "\n",
       "    .dataframe tbody tr th {\n",
       "        vertical-align: top;\n",
       "    }\n",
       "\n",
       "    .dataframe thead th {\n",
       "        text-align: right;\n",
       "    }\n",
       "</style>\n",
       "<table border=\"1\" class=\"dataframe\">\n",
       "  <thead>\n",
       "    <tr style=\"text-align: right;\">\n",
       "      <th></th>\n",
       "      <th>title</th>\n",
       "      <th>auth</th>\n",
       "      <th>subreddit</th>\n",
       "      <th>text</th>\n",
       "      <th>is_asktransgender</th>\n",
       "      <th>title_length</th>\n",
       "    </tr>\n",
       "  </thead>\n",
       "  <tbody>\n",
       "    <tr>\n",
       "      <th>54</th>\n",
       "      <td>.</td>\n",
       "      <td>Harmonygirl82</td>\n",
       "      <td>asktransgender</td>\n",
       "      <td>https://www.reddit.com/r/lgbt/comments/scsnim/...</td>\n",
       "      <td>1</td>\n",
       "      <td>1.0</td>\n",
       "    </tr>\n",
       "    <tr>\n",
       "      <th>7067</th>\n",
       "      <td>.</td>\n",
       "      <td>Dr_Trident</td>\n",
       "      <td>ainbow</td>\n",
       "      <td></td>\n",
       "      <td>0</td>\n",
       "      <td>1.0</td>\n",
       "    </tr>\n",
       "    <tr>\n",
       "      <th>10017</th>\n",
       "      <td>.</td>\n",
       "      <td>Leopoldo_Videla</td>\n",
       "      <td>ainbow</td>\n",
       "      <td></td>\n",
       "      <td>0</td>\n",
       "      <td>1.0</td>\n",
       "    </tr>\n",
       "    <tr>\n",
       "      <th>10620</th>\n",
       "      <td>=</td>\n",
       "      <td>Any-Acanthisitta-475</td>\n",
       "      <td>ainbow</td>\n",
       "      <td></td>\n",
       "      <td>0</td>\n",
       "      <td>1.0</td>\n",
       "    </tr>\n",
       "    <tr>\n",
       "      <th>6839</th>\n",
       "      <td>Me</td>\n",
       "      <td>Adryan_NS</td>\n",
       "      <td>ainbow</td>\n",
       "      <td></td>\n",
       "      <td>0</td>\n",
       "      <td>2.0</td>\n",
       "    </tr>\n",
       "    <tr>\n",
       "      <th>7212</th>\n",
       "      <td>hi</td>\n",
       "      <td>tsgoddessjennauk</td>\n",
       "      <td>ainbow</td>\n",
       "      <td></td>\n",
       "      <td>0</td>\n",
       "      <td>2.0</td>\n",
       "    </tr>\n",
       "    <tr>\n",
       "      <th>7468</th>\n",
       "      <td>Ok</td>\n",
       "      <td>Mean-Technician-3140</td>\n",
       "      <td>ainbow</td>\n",
       "      <td></td>\n",
       "      <td>0</td>\n",
       "      <td>2.0</td>\n",
       "    </tr>\n",
       "    <tr>\n",
       "      <th>8120</th>\n",
       "      <td>:)</td>\n",
       "      <td>Masrout</td>\n",
       "      <td>ainbow</td>\n",
       "      <td></td>\n",
       "      <td>0</td>\n",
       "      <td>2.0</td>\n",
       "    </tr>\n",
       "    <tr>\n",
       "      <th>8147</th>\n",
       "      <td>Do</td>\n",
       "      <td>WonderFrog25</td>\n",
       "      <td>ainbow</td>\n",
       "      <td>The reason why I say Do is because life ant as...</td>\n",
       "      <td>0</td>\n",
       "      <td>2.0</td>\n",
       "    </tr>\n",
       "    <tr>\n",
       "      <th>8198</th>\n",
       "      <td>:)</td>\n",
       "      <td>QUIN_THE_DM</td>\n",
       "      <td>ainbow</td>\n",
       "      <td></td>\n",
       "      <td>0</td>\n",
       "      <td>2.0</td>\n",
       "    </tr>\n",
       "  </tbody>\n",
       "</table>\n",
       "</div>"
      ],
      "text/plain": [
       "      title                  auth       subreddit  \\\n",
       "54        .         Harmonygirl82  asktransgender   \n",
       "7067      .            Dr_Trident          ainbow   \n",
       "10017     .       Leopoldo_Videla          ainbow   \n",
       "10620     =  Any-Acanthisitta-475          ainbow   \n",
       "6839     Me             Adryan_NS          ainbow   \n",
       "7212     hi      tsgoddessjennauk          ainbow   \n",
       "7468     Ok  Mean-Technician-3140          ainbow   \n",
       "8120     :)               Masrout          ainbow   \n",
       "8147     Do          WonderFrog25          ainbow   \n",
       "8198     :)           QUIN_THE_DM          ainbow   \n",
       "\n",
       "                                                    text  is_asktransgender  \\\n",
       "54     https://www.reddit.com/r/lgbt/comments/scsnim/...                  1   \n",
       "7067                                                                      0   \n",
       "10017                                                                     0   \n",
       "10620                                                                     0   \n",
       "6839                                                                      0   \n",
       "7212                                                                      0   \n",
       "7468                                                                      0   \n",
       "8120                                                                      0   \n",
       "8147   The reason why I say Do is because life ant as...                  0   \n",
       "8198                                                                      0   \n",
       "\n",
       "       title_length  \n",
       "54              1.0  \n",
       "7067            1.0  \n",
       "10017           1.0  \n",
       "10620           1.0  \n",
       "6839            2.0  \n",
       "7212            2.0  \n",
       "7468            2.0  \n",
       "8120            2.0  \n",
       "8147            2.0  \n",
       "8198            2.0  "
      ]
     },
     "execution_count": 16,
     "metadata": {},
     "output_type": "execute_result"
    }
   ],
   "source": [
    "combo_clean.nsmallest(10, 'title_length')"
   ]
  },
  {
   "cell_type": "markdown",
   "metadata": {},
   "source": [
    "# Charts & Graphs"
   ]
  },
  {
   "cell_type": "markdown",
   "metadata": {},
   "source": [
    "**Observations:**\n",
    "The histograph shows that the distribution of the title length is skewed. Another observation is that I notice most title characters length are in the 50's, anything after that is not read nor answered"
   ]
  },
  {
   "cell_type": "code",
   "execution_count": 36,
   "metadata": {},
   "outputs": [
    {
     "data": {
      "image/png": "[encoded data removed]",
      "text/plain": [
       "<Figure size 432x288 with 1 Axes>"
      ]
     },
     "metadata": {},
     "output_type": "display_data"
    }
   ],
   "source": [
    "#The distribution of the Title Lengths\n",
    "\n",
    "plt.hist(combo_clean['title_length'], label='Title Character Count')\n",
    "#plt.plot(hist3.history['val_accuracy'], label='Test')\n",
    "plt.ylabel('count');\n",
    "plt.xlabel('title_length');\n",
    "plt.legend()\n",
    "plt.title('Distribution of Title Lengths by Combined Data');"
   ]
  },
  {
   "cell_type": "code",
   "execution_count": 19,
   "metadata": {},
   "outputs": [
    {
     "data": {
      "image/png": "[encoded data removed]",
      "text/plain": [
       "<Figure size 432x288 with 1 Axes>"
      ]
     },
     "metadata": {
      "needs_background": "light"
     },
     "output_type": "display_data"
    }
   ],
   "source": [
    "#Noticed that there are many outliers within this boxplot\n",
    "\n",
    "sns.boxplot(x=combo_clean['title_length']);"
   ]
  },
  {
   "cell_type": "code",
   "execution_count": 20,
   "metadata": {},
   "outputs": [
    {
     "data": {
      "text/html": [
       "<div>\n",
       "<style scoped>\n",
       "    .dataframe tbody tr th:only-of-type {\n",
       "        vertical-align: middle;\n",
       "    }\n",
       "\n",
       "    .dataframe tbody tr th {\n",
       "        vertical-align: top;\n",
       "    }\n",
       "\n",
       "    .dataframe thead th {\n",
       "        text-align: right;\n",
       "    }\n",
       "</style>\n",
       "<table border=\"1\" class=\"dataframe\">\n",
       "  <thead>\n",
       "    <tr style=\"text-align: right;\">\n",
       "      <th></th>\n",
       "      <th>title</th>\n",
       "      <th>auth</th>\n",
       "      <th>subreddit</th>\n",
       "      <th>text</th>\n",
       "      <th>title_length</th>\n",
       "    </tr>\n",
       "  </thead>\n",
       "  <tbody>\n",
       "    <tr>\n",
       "      <th>0</th>\n",
       "      <td>What's the difference between transitioning wo...</td>\n",
       "      <td>SnooChocolates8273</td>\n",
       "      <td>asktransgender</td>\n",
       "      <td>When I look at a beautiful woman I see a beaut...</td>\n",
       "      <td>66</td>\n",
       "    </tr>\n",
       "    <tr>\n",
       "      <th>1</th>\n",
       "      <td>Did you also have this?</td>\n",
       "      <td>HoldTheStocks2</td>\n",
       "      <td>asktransgender</td>\n",
       "      <td>When I was like 10-14 I was searching all over...</td>\n",
       "      <td>23</td>\n",
       "    </tr>\n",
       "  </tbody>\n",
       "</table>\n",
       "</div>"
      ],
      "text/plain": [
       "                                               title                auth  \\\n",
       "0  What's the difference between transitioning wo...  SnooChocolates8273   \n",
       "1                            Did you also have this?      HoldTheStocks2   \n",
       "\n",
       "        subreddit                                               text  \\\n",
       "0  asktransgender  When I look at a beautiful woman I see a beaut...   \n",
       "1  asktransgender  When I was like 10-14 I was searching all over...   \n",
       "\n",
       "   title_length  \n",
       "0            66  \n",
       "1            23  "
      ]
     },
     "execution_count": 20,
     "metadata": {},
     "output_type": "execute_result"
    }
   ],
   "source": [
    "#Creating column of title length\n",
    "\n",
    "ask_trans['title_length'] = ask_trans['title'].str.len()\n",
    "ask_trans.head(2)"
   ]
  },
  {
   "cell_type": "code",
   "execution_count": 21,
   "metadata": {},
   "outputs": [
    {
     "data": {
      "image/png": "[encoded data removed]",
      "text/plain": [
       "<Figure size 432x288 with 1 Axes>"
      ]
     },
     "metadata": {
      "needs_background": "light"
     },
     "output_type": "display_data"
    }
   ],
   "source": [
    "#Histo for asktransgender\n",
    "\n",
    "plt.hist(combo_clean['title_length'], label='Title Character Count')\n",
    "#plt.plot(hist3.history['val_accuracy'], label='Test')\n",
    "plt.ylabel('count');\n",
    "plt.xlabel('title_length');\n",
    "plt.legend()\n",
    "plt.title('Distribution of Title Lengths by Combined Data');plt.hist(combo_clean['title_length'], label='Title Character Count')"
   ]
  },
  {
   "cell_type": "code",
   "execution_count": null,
   "metadata": {},
   "outputs": [],
   "source": [
    "#Boxplot for asktransgender\n",
    "sns.boxplot(x=ask_trans['title_length']);\n",
    "plt.bar_label(title_length)"
   ]
  },
  {
   "cell_type": "code",
   "execution_count": 23,
   "metadata": {},
   "outputs": [
    {
     "data": {
      "text/html": [
       "<div>\n",
       "<style scoped>\n",
       "    .dataframe tbody tr th:only-of-type {\n",
       "        vertical-align: middle;\n",
       "    }\n",
       "\n",
       "    .dataframe tbody tr th {\n",
       "        vertical-align: top;\n",
       "    }\n",
       "\n",
       "    .dataframe thead th {\n",
       "        text-align: right;\n",
       "    }\n",
       "</style>\n",
       "<table border=\"1\" class=\"dataframe\">\n",
       "  <thead>\n",
       "    <tr style=\"text-align: right;\">\n",
       "      <th></th>\n",
       "      <th>title</th>\n",
       "      <th>auth</th>\n",
       "      <th>subreddit</th>\n",
       "      <th>text</th>\n",
       "      <th>title_length</th>\n",
       "    </tr>\n",
       "  </thead>\n",
       "  <tbody>\n",
       "    <tr>\n",
       "      <th>0</th>\n",
       "      <td>I created an Omegle Clone that actually helps ...</td>\n",
       "      <td>lolroofus</td>\n",
       "      <td>ainbow</td>\n",
       "      <td></td>\n",
       "      <td>62.0</td>\n",
       "    </tr>\n",
       "    <tr>\n",
       "      <th>1</th>\n",
       "      <td>My boyfriend came out to me as bi</td>\n",
       "      <td>glassAdvertiser</td>\n",
       "      <td>ainbow</td>\n",
       "      <td>Hi everyone, I really need some advice! \\n\\nMy...</td>\n",
       "      <td>33.0</td>\n",
       "    </tr>\n",
       "  </tbody>\n",
       "</table>\n",
       "</div>"
      ],
      "text/plain": [
       "                                               title             auth  \\\n",
       "0  I created an Omegle Clone that actually helps ...        lolroofus   \n",
       "1                  My boyfriend came out to me as bi  glassAdvertiser   \n",
       "\n",
       "  subreddit                                               text  title_length  \n",
       "0    ainbow                                                             62.0  \n",
       "1    ainbow  Hi everyone, I really need some advice! \\n\\nMy...          33.0  "
      ]
     },
     "execution_count": 23,
     "metadata": {},
     "output_type": "execute_result"
    }
   ],
   "source": [
    "#Creating title length column for the rainbow subreddit\n",
    "\n",
    "rainbow['title_length'] = rainbow['title'].str.len()\n",
    "rainbow.head(2)"
   ]
  },
  {
   "cell_type": "code",
   "execution_count": 24,
   "metadata": {},
   "outputs": [
    {
     "data": {
      "image/png": "[encoded data removed]",
      "text/plain": [
       "<Figure size 432x288 with 1 Axes>"
      ]
     },
     "metadata": {
      "needs_background": "light"
     },
     "output_type": "display_data"
    }
   ],
   "source": [
    "#Notcing that this histo is skewed just like the combo df as well\n",
    "\n",
    "plt.hist(rainbow['title_length'], label='Title Character Count')\n",
    "plt.ylabel('Count');\n",
    "plt.xlabel('title_length');\n",
    "plt.legend()\n",
    "plt.title('Rainbow Title Length');"
   ]
  },
  {
   "cell_type": "code",
   "execution_count": 25,
   "metadata": {},
   "outputs": [
    {
     "data": {
      "image/png": "[encoded data removed]",
      "text/plain": [
       "<Figure size 432x288 with 1 Axes>"
      ]
     },
     "metadata": {
      "needs_background": "light"
     },
     "output_type": "display_data"
    }
   ],
   "source": [
    "#Boxplot for rainbow with many outliers\n",
    "\n",
    "sns.boxplot(x=rainbow['title_length']);"
   ]
  },
  {
   "cell_type": "code",
   "execution_count": 26,
   "metadata": {},
   "outputs": [],
   "source": [
    "#pip install wordcloud"
   ]
  },
  {
   "cell_type": "code",
   "execution_count": 27,
   "metadata": {},
   "outputs": [],
   "source": [
    "from wordcloud import WordCloud, STOPWORDS, ImageColorGenerator"
   ]
  },
  {
   "cell_type": "code",
   "execution_count": 28,
   "metadata": {},
   "outputs": [
    {
     "data": {
      "image/png": "[encoded data removed]",
      "text/plain": [
       "<Figure size 432x288 with 1 Axes>"
      ]
     },
     "metadata": {
      "needs_background": "light"
     },
     "output_type": "display_data"
    }
   ],
   "source": [
    "from wordcloud import WordCloud \n",
    "\n",
    "text = rainbow['title'][30]\n",
    "\n",
    "wordcloud = WordCloud(max_font_size=40, relative_scaling=.5).generate(text)\n",
    "plt.figure()\n",
    "plt.imshow(wordcloud)\n",
    "plt.axis(\"off\")\n",
    "plt.show()"
   ]
  },
  {
   "cell_type": "code",
   "execution_count": 29,
   "metadata": {},
   "outputs": [
    {
     "data": {
      "image/png": "[encoded data removed]",
      "text/plain": [
       "<Figure size 432x288 with 1 Axes>"
      ]
     },
     "metadata": {
      "needs_background": "light"
     },
     "output_type": "display_data"
    }
   ],
   "source": [
    "text = ask_trans['title'][6284]\n",
    "\n",
    "wordcloud = WordCloud(max_font_size=40, relative_scaling=.5).generate(text)\n",
    "plt.figure()\n",
    "plt.imshow(wordcloud)\n",
    "plt.axis(\"off\")\n",
    "plt.show()"
   ]
  },
  {
   "cell_type": "code",
   "execution_count": 30,
   "metadata": {},
   "outputs": [
    {
     "data": {
      "image/png": "[encoded data removed]",
      "text/plain": [
       "<Figure size 432x288 with 1 Axes>"
      ]
     },
     "metadata": {
      "needs_background": "light"
     },
     "output_type": "display_data"
    }
   ],
   "source": [
    "text = ask_trans['title'][111]\n",
    "\n",
    "wordcloud = WordCloud(max_font_size=40, relative_scaling=.5).generate(text)\n",
    "plt.figure()\n",
    "plt.imshow(wordcloud)\n",
    "plt.axis(\"off\")\n",
    "plt.show()"
   ]
  },
  {
   "cell_type": "code",
   "execution_count": 31,
   "metadata": {},
   "outputs": [
    {
     "data": {
      "text/html": [
       "<div>\n",
       "<style scoped>\n",
       "    .dataframe tbody tr th:only-of-type {\n",
       "        vertical-align: middle;\n",
       "    }\n",
       "\n",
       "    .dataframe tbody tr th {\n",
       "        vertical-align: top;\n",
       "    }\n",
       "\n",
       "    .dataframe thead th {\n",
       "        text-align: right;\n",
       "    }\n",
       "</style>\n",
       "<table border=\"1\" class=\"dataframe\">\n",
       "  <thead>\n",
       "    <tr style=\"text-align: right;\">\n",
       "      <th></th>\n",
       "      <th>title</th>\n",
       "      <th>auth</th>\n",
       "      <th>subreddit</th>\n",
       "      <th>text</th>\n",
       "      <th>is_asktransgender</th>\n",
       "      <th>title_length</th>\n",
       "    </tr>\n",
       "  </thead>\n",
       "  <tbody>\n",
       "    <tr>\n",
       "      <th>0</th>\n",
       "      <td>What's the difference between transitioning wo...</td>\n",
       "      <td>SnooChocolates8273</td>\n",
       "      <td>asktransgender</td>\n",
       "      <td>When I look at a beautiful woman I see a beaut...</td>\n",
       "      <td>1</td>\n",
       "      <td>66.0</td>\n",
       "    </tr>\n",
       "    <tr>\n",
       "      <th>1</th>\n",
       "      <td>Did you also have this?</td>\n",
       "      <td>HoldTheStocks2</td>\n",
       "      <td>asktransgender</td>\n",
       "      <td>When I was like 10-14 I was searching all over...</td>\n",
       "      <td>1</td>\n",
       "      <td>23.0</td>\n",
       "    </tr>\n",
       "    <tr>\n",
       "      <th>2</th>\n",
       "      <td>How many times a week do you dilatate?</td>\n",
       "      <td>Kind_Lemon</td>\n",
       "      <td>asktransgender</td>\n",
       "      <td>Hello!\\n\\nI am seven years post-surgical MtF, ...</td>\n",
       "      <td>1</td>\n",
       "      <td>38.0</td>\n",
       "    </tr>\n",
       "    <tr>\n",
       "      <th>3</th>\n",
       "      <td>Coming out to my mother (again)</td>\n",
       "      <td>mwnahas</td>\n",
       "      <td>asktransgender</td>\n",
       "      <td>Ive already done it about 1.5 years ago. She w...</td>\n",
       "      <td>1</td>\n",
       "      <td>31.0</td>\n",
       "    </tr>\n",
       "    <tr>\n",
       "      <th>4</th>\n",
       "      <td>Foot hurts is it hrt</td>\n",
       "      <td>Anastasia69Sanchez</td>\n",
       "      <td>asktransgender</td>\n",
       "      <td>I heard foot gets smaller . Idk if I'm getting...</td>\n",
       "      <td>1</td>\n",
       "      <td>20.0</td>\n",
       "    </tr>\n",
       "    <tr>\n",
       "      <th>...</th>\n",
       "      <td>...</td>\n",
       "      <td>...</td>\n",
       "      <td>...</td>\n",
       "      <td>...</td>\n",
       "      <td>...</td>\n",
       "      <td>...</td>\n",
       "    </tr>\n",
       "    <tr>\n",
       "      <th>12313</th>\n",
       "      <td>Lesbian androgyny in summer!</td>\n",
       "      <td>ShoshiWB</td>\n",
       "      <td>ainbow</td>\n",
       "      <td></td>\n",
       "      <td>0</td>\n",
       "      <td>29.0</td>\n",
       "    </tr>\n",
       "    <tr>\n",
       "      <th>12314</th>\n",
       "      <td>Hang out with Orange Is The New Black's very o...</td>\n",
       "      <td>savetheworld111</td>\n",
       "      <td>ainbow</td>\n",
       "      <td></td>\n",
       "      <td>0</td>\n",
       "      <td>153.0</td>\n",
       "    </tr>\n",
       "    <tr>\n",
       "      <th>12315</th>\n",
       "      <td>Pride flag banned on DoD installations</td>\n",
       "      <td>guisar</td>\n",
       "      <td>ainbow</td>\n",
       "      <td></td>\n",
       "      <td>0</td>\n",
       "      <td>38.0</td>\n",
       "    </tr>\n",
       "    <tr>\n",
       "      <th>12316</th>\n",
       "      <td>LGBT under The Obama Administration 2009 - 201...</td>\n",
       "      <td>CreakeyBroomwood</td>\n",
       "      <td>ainbow</td>\n",
       "      <td></td>\n",
       "      <td>0</td>\n",
       "      <td>73.0</td>\n",
       "    </tr>\n",
       "    <tr>\n",
       "      <th>12317</th>\n",
       "      <td>This section apparently needs a refresher cour...</td>\n",
       "      <td>CreakeyBroomwood</td>\n",
       "      <td>ainbow</td>\n",
       "      <td></td>\n",
       "      <td>0</td>\n",
       "      <td>165.0</td>\n",
       "    </tr>\n",
       "  </tbody>\n",
       "</table>\n",
       "<p>12318 rows × 6 columns</p>\n",
       "</div>"
      ],
      "text/plain": [
       "                                                   title                auth  \\\n",
       "0      What's the difference between transitioning wo...  SnooChocolates8273   \n",
       "1                                Did you also have this?      HoldTheStocks2   \n",
       "2                 How many times a week do you dilatate?          Kind_Lemon   \n",
       "3                        Coming out to my mother (again)             mwnahas   \n",
       "4                                   Foot hurts is it hrt  Anastasia69Sanchez   \n",
       "...                                                  ...                 ...   \n",
       "12313                      Lesbian androgyny in summer!             ShoshiWB   \n",
       "12314  Hang out with Orange Is The New Black's very o...     savetheworld111   \n",
       "12315             Pride flag banned on DoD installations              guisar   \n",
       "12316  LGBT under The Obama Administration 2009 - 201...    CreakeyBroomwood   \n",
       "12317  This section apparently needs a refresher cour...    CreakeyBroomwood   \n",
       "\n",
       "            subreddit                                               text  \\\n",
       "0      asktransgender  When I look at a beautiful woman I see a beaut...   \n",
       "1      asktransgender  When I was like 10-14 I was searching all over...   \n",
       "2      asktransgender  Hello!\\n\\nI am seven years post-surgical MtF, ...   \n",
       "3      asktransgender  Ive already done it about 1.5 years ago. She w...   \n",
       "4      asktransgender  I heard foot gets smaller . Idk if I'm getting...   \n",
       "...               ...                                                ...   \n",
       "12313          ainbow                                                      \n",
       "12314          ainbow                                                      \n",
       "12315          ainbow                                                      \n",
       "12316          ainbow                                                      \n",
       "12317          ainbow                                                      \n",
       "\n",
       "       is_asktransgender  title_length  \n",
       "0                      1          66.0  \n",
       "1                      1          23.0  \n",
       "2                      1          38.0  \n",
       "3                      1          31.0  \n",
       "4                      1          20.0  \n",
       "...                  ...           ...  \n",
       "12313                  0          29.0  \n",
       "12314                  0         153.0  \n",
       "12315                  0          38.0  \n",
       "12316                  0          73.0  \n",
       "12317                  0         165.0  \n",
       "\n",
       "[12318 rows x 6 columns]"
      ]
     },
     "execution_count": 31,
     "metadata": {},
     "output_type": "execute_result"
    }
   ],
   "source": [
    "combo_clean"
   ]
  },
  {
   "cell_type": "code",
   "execution_count": 32,
   "metadata": {},
   "outputs": [
    {
     "data": {
      "image/png": "[encoded data removed]",
      "text/plain": [
       "<Figure size 504x432 with 1 Axes>"
      ]
     },
     "metadata": {},
     "output_type": "display_data"
    }
   ],
   "source": [
    "#Relationship between the count of subbreddits\n",
    "\n",
    "sns.set(font_scale=1.4)\n",
    "combo_clean['subreddit'].value_counts().plot(kind='bar', figsize=(7, 6), rot=0)\n",
    "plt.xlabel(\"Subreddits\", labelpad=14)\n",
    "plt.ylabel(\"Count of Subreddits\", labelpad=14)\n",
    "plt.title(\"The Distribution Subreddits\", y=1.02);"
   ]
  }
 ],
 "metadata": {
  "interpreter": {
   "hash": "40d3a090f54c6569ab1632332b64b2c03c39dcf918b08424e98f38b5ae0af88f"
  },
  "kernelspec": {
   "display_name": "Python 3.9.7 64-bit ('base': conda)",
   "language": "python",
   "name": "python3"
  },
  "language_info": {
   "codemirror_mode": {
    "name": "ipython",
    "version": 3
   },
   "file_extension": ".py",
   "mimetype": "text/x-python",
   "name": "python",
   "nbconvert_exporter": "python",
   "pygments_lexer": "ipython3",
   "version": "3.9.7"
  },
  "orig_nbformat": 4
 },
 "nbformat": 4,
 "nbformat_minor": 2
}
