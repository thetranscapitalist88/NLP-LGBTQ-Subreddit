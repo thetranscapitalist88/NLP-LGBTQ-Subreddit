{
 "cells": [
  {
   "cell_type": "markdown",
   "metadata": {},
   "source": [
    "#                                                            Cleaning Datasets\n"
   ]
  },
  {
   "cell_type": "markdown",
   "metadata": {},
   "source": [
    "# Import Libraries & Tools"
   ]
  },
  {
   "cell_type": "code",
   "execution_count": 1,
   "metadata": {},
   "outputs": [],
   "source": [
    "import pandas as pd\n",
    "import numpy as np\n",
    "import matplotlib.pyplot as plt\n",
    "import seaborn as sns\n",
    "\n",
    "from sklearn.model_selection import train_test_split, GridSearchCV\n",
    "from sklearn.linear_model import LinearRegression, Ridge, Lasso, ElasticNet, LogisticRegression \n",
    "from sklearn.impute import SimpleImputer\n",
    "from sklearn.neighbors import KNeighborsClassifier\n",
    "from sklearn.compose import make_column_transformer\n",
    "from sklearn.pipeline import Pipeline, make_pipeline\n",
    "from sklearn.preprocessing import OneHotEncoder, StandardScaler, PolynomialFeatures\n",
    "from sklearn.feature_selection import RFE\n",
    "from sklearn.metrics import mean_squared_error, mean_absolute_error, r2_score"
   ]
  },
  {
   "cell_type": "markdown",
   "metadata": {},
   "source": [
    "# Import Dataframe using Pandas"
   ]
  },
  {
   "cell_type": "code",
   "execution_count": 3,
   "metadata": {},
   "outputs": [
    {
     "data": {
      "text/html": [
       "<div>\n",
       "<style scoped>\n",
       "    .dataframe tbody tr th:only-of-type {\n",
       "        vertical-align: middle;\n",
       "    }\n",
       "\n",
       "    .dataframe tbody tr th {\n",
       "        vertical-align: top;\n",
       "    }\n",
       "\n",
       "    .dataframe thead th {\n",
       "        text-align: right;\n",
       "    }\n",
       "</style>\n",
       "<table border=\"1\" class=\"dataframe\">\n",
       "  <thead>\n",
       "    <tr style=\"text-align: right;\">\n",
       "      <th></th>\n",
       "      <th>title</th>\n",
       "      <th>auth</th>\n",
       "      <th>subreddit</th>\n",
       "      <th>text</th>\n",
       "    </tr>\n",
       "  </thead>\n",
       "  <tbody>\n",
       "    <tr>\n",
       "      <th>0</th>\n",
       "      <td>What's the difference between transitioning wo...</td>\n",
       "      <td>SnooChocolates8273</td>\n",
       "      <td>asktransgender</td>\n",
       "      <td>When I look at a beautiful woman I see a beaut...</td>\n",
       "    </tr>\n",
       "    <tr>\n",
       "      <th>1</th>\n",
       "      <td>Did you also have this?</td>\n",
       "      <td>HoldTheStocks2</td>\n",
       "      <td>asktransgender</td>\n",
       "      <td>When I was like 10-14 I was searching all over...</td>\n",
       "    </tr>\n",
       "    <tr>\n",
       "      <th>2</th>\n",
       "      <td>How many times a week do you dilatate?</td>\n",
       "      <td>Kind_Lemon</td>\n",
       "      <td>asktransgender</td>\n",
       "      <td>Hello!\\n\\nI am seven years post-surgical MtF, ...</td>\n",
       "    </tr>\n",
       "    <tr>\n",
       "      <th>3</th>\n",
       "      <td>Coming out to my mother (again)</td>\n",
       "      <td>mwnahas</td>\n",
       "      <td>asktransgender</td>\n",
       "      <td>Ive already done it about 1.5 years ago. She w...</td>\n",
       "    </tr>\n",
       "    <tr>\n",
       "      <th>4</th>\n",
       "      <td>Foot hurts is it hrt</td>\n",
       "      <td>Anastasia69Sanchez</td>\n",
       "      <td>asktransgender</td>\n",
       "      <td>I heard foot gets smaller . Idk if I'm getting...</td>\n",
       "    </tr>\n",
       "  </tbody>\n",
       "</table>\n",
       "</div>"
      ],
      "text/plain": [
       "                                               title                auth  \\\n",
       "0  What's the difference between transitioning wo...  SnooChocolates8273   \n",
       "1                            Did you also have this?      HoldTheStocks2   \n",
       "2             How many times a week do you dilatate?          Kind_Lemon   \n",
       "3                    Coming out to my mother (again)             mwnahas   \n",
       "4                               Foot hurts is it hrt  Anastasia69Sanchez   \n",
       "\n",
       "        subreddit                                               text  \n",
       "0  asktransgender  When I look at a beautiful woman I see a beaut...  \n",
       "1  asktransgender  When I was like 10-14 I was searching all over...  \n",
       "2  asktransgender  Hello!\\n\\nI am seven years post-surgical MtF, ...  \n",
       "3  asktransgender  Ive already done it about 1.5 years ago. She w...  \n",
       "4  asktransgender  I heard foot gets smaller . Idk if I'm getting...  "
      ]
     },
     "execution_count": 3,
     "metadata": {},
     "output_type": "execute_result"
    }
   ],
   "source": [
    "ask_trans = pd.read_csv('/Users/khalildavis/Desktop/General Assembly Work/Submissions/Projects/project-3-master/Project 3 Submission/Data/asktrans_clean.csv')\n",
    "ask_trans.head(5)"
   ]
  },
  {
   "cell_type": "markdown",
   "metadata": {},
   "source": [
    "# Dropping Columns & Duplicates"
   ]
  },
  {
   "cell_type": "code",
   "execution_count": 5,
   "metadata": {},
   "outputs": [
    {
     "name": "stdout",
     "output_type": "stream",
     "text": [
      "<class 'pandas.core.frame.DataFrame'>\n",
      "RangeIndex: 6289 entries, 0 to 6288\n",
      "Data columns (total 4 columns):\n",
      " #   Column     Non-Null Count  Dtype \n",
      "---  ------     --------------  ----- \n",
      " 0   title      6289 non-null   object\n",
      " 1   auth       6289 non-null   object\n",
      " 2   subreddit  6289 non-null   object\n",
      " 3   text       6289 non-null   object\n",
      "dtypes: object(4)\n",
      "memory usage: 196.7+ KB\n"
     ]
    }
   ],
   "source": [
    "ask_trans.info()"
   ]
  },
  {
   "cell_type": "code",
   "execution_count": null,
   "metadata": {},
   "outputs": [],
   "source": [
    "#Code for removing uncessary columns\n",
    "\n",
    "ask_trans.drop(columns=['Unnamed: 0', 'time'], inplace=True)"
   ]
  },
  {
   "cell_type": "code",
   "execution_count": 7,
   "metadata": {},
   "outputs": [
    {
     "data": {
      "text/html": [
       "<div>\n",
       "<style scoped>\n",
       "    .dataframe tbody tr th:only-of-type {\n",
       "        vertical-align: middle;\n",
       "    }\n",
       "\n",
       "    .dataframe tbody tr th {\n",
       "        vertical-align: top;\n",
       "    }\n",
       "\n",
       "    .dataframe thead th {\n",
       "        text-align: right;\n",
       "    }\n",
       "</style>\n",
       "<table border=\"1\" class=\"dataframe\">\n",
       "  <thead>\n",
       "    <tr style=\"text-align: right;\">\n",
       "      <th></th>\n",
       "      <th>title</th>\n",
       "      <th>auth</th>\n",
       "      <th>subreddit</th>\n",
       "      <th>text</th>\n",
       "    </tr>\n",
       "  </thead>\n",
       "  <tbody>\n",
       "    <tr>\n",
       "      <th>0</th>\n",
       "      <td>What's the difference between transitioning wo...</td>\n",
       "      <td>SnooChocolates8273</td>\n",
       "      <td>asktransgender</td>\n",
       "      <td>When I look at a beautiful woman I see a beaut...</td>\n",
       "    </tr>\n",
       "    <tr>\n",
       "      <th>1</th>\n",
       "      <td>Did you also have this?</td>\n",
       "      <td>HoldTheStocks2</td>\n",
       "      <td>asktransgender</td>\n",
       "      <td>When I was like 10-14 I was searching all over...</td>\n",
       "    </tr>\n",
       "  </tbody>\n",
       "</table>\n",
       "</div>"
      ],
      "text/plain": [
       "                                               title                auth  \\\n",
       "0  What's the difference between transitioning wo...  SnooChocolates8273   \n",
       "1                            Did you also have this?      HoldTheStocks2   \n",
       "\n",
       "        subreddit                                               text  \n",
       "0  asktransgender  When I look at a beautiful woman I see a beaut...  \n",
       "1  asktransgender  When I was like 10-14 I was searching all over...  "
      ]
     },
     "execution_count": 7,
     "metadata": {},
     "output_type": "execute_result"
    }
   ],
   "source": [
    "#Checked to see if thr columns were properly dropped\n",
    "\n",
    "ask_trans.head(2)"
   ]
  },
  {
   "cell_type": "code",
   "execution_count": 8,
   "metadata": {},
   "outputs": [
    {
     "data": {
      "text/plain": [
       "0"
      ]
     },
     "execution_count": 8,
     "metadata": {},
     "output_type": "execute_result"
    }
   ],
   "source": [
    "#Code for checking for duplicates with the df\n",
    "\n",
    "ask_trans.duplicated().sum()"
   ]
  },
  {
   "cell_type": "code",
   "execution_count": 9,
   "metadata": {},
   "outputs": [],
   "source": [
    "#Code to drop the duplicates\n",
    "\n",
    "ask_trans.drop_duplicates(inplace=True)"
   ]
  },
  {
   "cell_type": "code",
   "execution_count": 10,
   "metadata": {},
   "outputs": [
    {
     "data": {
      "text/plain": [
       "0"
      ]
     },
     "execution_count": 10,
     "metadata": {},
     "output_type": "execute_result"
    }
   ],
   "source": [
    "#This shows me the duplicates were succesfully removed\n",
    "\n",
    "ask_trans.duplicated().sum()"
   ]
  },
  {
   "cell_type": "code",
   "execution_count": 11,
   "metadata": {},
   "outputs": [
    {
     "data": {
      "text/plain": [
       "title        0\n",
       "auth         0\n",
       "subreddit    0\n",
       "text         0\n",
       "dtype: int64"
      ]
     },
     "execution_count": 11,
     "metadata": {},
     "output_type": "execute_result"
    }
   ],
   "source": [
    "ask_trans.isna().sum()"
   ]
  },
  {
   "cell_type": "markdown",
   "metadata": {},
   "source": [
    "**Observation**:\n",
    "I have decided to drop all the rows throughout the dataframe that contain 'NaN' & '[removed]' because compared to whole dataframe, the 'NaN', '[removed]' values are 6% ,3% respectively of the data which is a very low number."
   ]
  },
  {
   "cell_type": "code",
   "execution_count": 12,
   "metadata": {},
   "outputs": [],
   "source": [
    "#Code to removed any 'Nan\" values\n",
    "ask_trans.dropna(inplace=True)"
   ]
  },
  {
   "cell_type": "code",
   "execution_count": 13,
   "metadata": {},
   "outputs": [
    {
     "data": {
      "text/plain": [
       "0"
      ]
     },
     "execution_count": 13,
     "metadata": {},
     "output_type": "execute_result"
    }
   ],
   "source": [
    "#Code to see how many removed values I have in the df\n",
    "\n",
    "ask_trans[ask_trans['text'] == '[removed]'].value_counts().sum()"
   ]
  },
  {
   "cell_type": "code",
   "execution_count": 14,
   "metadata": {},
   "outputs": [],
   "source": [
    "#Code to to remove any rows that contain '[removed]'\n",
    "\n",
    "ask_trans = ask_trans[ask_trans['text'] != '[removed]']"
   ]
  },
  {
   "cell_type": "code",
   "execution_count": 15,
   "metadata": {},
   "outputs": [
    {
     "data": {
      "text/plain": [
       "0"
      ]
     },
     "execution_count": 15,
     "metadata": {},
     "output_type": "execute_result"
    }
   ],
   "source": [
    "#Code to check the removed is deleted from df\n",
    "\n",
    "ask_trans[ask_trans['text'] == '[removed]'].value_counts().sum()"
   ]
  },
  {
   "cell_type": "code",
   "execution_count": 16,
   "metadata": {},
   "outputs": [
    {
     "data": {
      "text/plain": [
       "0"
      ]
     },
     "execution_count": 16,
     "metadata": {},
     "output_type": "execute_result"
    }
   ],
   "source": [
    "#Checking to see how many text say '[deleted]'\n",
    "\n",
    "ask_trans[ask_trans['text'] == '[deleted]'].value_counts().sum()"
   ]
  },
  {
   "cell_type": "code",
   "execution_count": 17,
   "metadata": {},
   "outputs": [],
   "source": [
    "#Code to remove the '[deleted]'\n",
    "\n",
    "ask_trans = ask_trans[ask_trans['text'] != '[deleted]']"
   ]
  },
  {
   "cell_type": "code",
   "execution_count": 18,
   "metadata": {},
   "outputs": [
    {
     "data": {
      "text/plain": [
       "0"
      ]
     },
     "execution_count": 18,
     "metadata": {},
     "output_type": "execute_result"
    }
   ],
   "source": [
    "#Check to see if it has been removed\n",
    "\n",
    "ask_trans[ask_trans['text'] == '[deleted]'].value_counts().sum()"
   ]
  },
  {
   "cell_type": "code",
   "execution_count": 19,
   "metadata": {},
   "outputs": [],
   "source": [
    "#This is the code to remove emojis within the df\n",
    "\n",
    "ask_trans = ask_trans.astype(str).apply(lambda x: x.str.encode('ascii', 'ignore').str.decode('ascii'))"
   ]
  },
  {
   "cell_type": "code",
   "execution_count": 20,
   "metadata": {},
   "outputs": [
    {
     "name": "stdout",
     "output_type": "stream",
     "text": [
      "<class 'pandas.core.frame.DataFrame'>\n",
      "Int64Index: 6289 entries, 0 to 6288\n",
      "Data columns (total 4 columns):\n",
      " #   Column     Non-Null Count  Dtype \n",
      "---  ------     --------------  ----- \n",
      " 0   title      6289 non-null   object\n",
      " 1   auth       6289 non-null   object\n",
      " 2   subreddit  6289 non-null   object\n",
      " 3   text       6289 non-null   object\n",
      "dtypes: object(4)\n",
      "memory usage: 245.7+ KB\n"
     ]
    }
   ],
   "source": [
    "ask_trans.info()"
   ]
  },
  {
   "cell_type": "markdown",
   "metadata": {},
   "source": [
    "**Observation**:\n",
    "Since I removed the whole 'NaN' & '[removed]' out of my data, I have reduced the rows by which still gives me 6,298 rows to work with. As well removing any emojis within the dataframe."
   ]
  },
  {
   "cell_type": "code",
   "execution_count": 21,
   "metadata": {},
   "outputs": [],
   "source": [
    "ask_trans.to_csv('asktrans_clean.csv', index=False)"
   ]
  },
  {
   "cell_type": "markdown",
   "metadata": {},
   "source": [
    "# Cleaning Rainbow Dataframe"
   ]
  },
  {
   "cell_type": "markdown",
   "metadata": {},
   "source": [
    "**Observation**:\n",
    "This cleaning process will be slightly different as there are emojis within the cells and I plan to removed them since they are characters and not words."
   ]
  },
  {
   "cell_type": "code",
   "execution_count": 24,
   "metadata": {},
   "outputs": [
    {
     "data": {
      "text/html": [
       "<div>\n",
       "<style scoped>\n",
       "    .dataframe tbody tr th:only-of-type {\n",
       "        vertical-align: middle;\n",
       "    }\n",
       "\n",
       "    .dataframe tbody tr th {\n",
       "        vertical-align: top;\n",
       "    }\n",
       "\n",
       "    .dataframe thead th {\n",
       "        text-align: right;\n",
       "    }\n",
       "</style>\n",
       "<table border=\"1\" class=\"dataframe\">\n",
       "  <thead>\n",
       "    <tr style=\"text-align: right;\">\n",
       "      <th></th>\n",
       "      <th>title</th>\n",
       "      <th>auth</th>\n",
       "      <th>subreddit</th>\n",
       "      <th>text</th>\n",
       "    </tr>\n",
       "  </thead>\n",
       "  <tbody>\n",
       "    <tr>\n",
       "      <th>0</th>\n",
       "      <td>I created an Omegle Clone that actually helps ...</td>\n",
       "      <td>lolroofus</td>\n",
       "      <td>ainbow</td>\n",
       "      <td></td>\n",
       "    </tr>\n",
       "    <tr>\n",
       "      <th>1</th>\n",
       "      <td>My boyfriend came out to me as bi</td>\n",
       "      <td>glassAdvertiser</td>\n",
       "      <td>ainbow</td>\n",
       "      <td>Hi everyone, I really need some advice! \\n\\nMy...</td>\n",
       "    </tr>\n",
       "    <tr>\n",
       "      <th>2</th>\n",
       "      <td>A celebration of a queen</td>\n",
       "      <td>Max_E_Mas</td>\n",
       "      <td>ainbow</td>\n",
       "      <td>If you are not up to date on Jeopardy I sugges...</td>\n",
       "    </tr>\n",
       "    <tr>\n",
       "      <th>3</th>\n",
       "      <td>Thank you, old queer people</td>\n",
       "      <td>Wonderful_Toes</td>\n",
       "      <td>ainbow</td>\n",
       "      <td>Thank you for the chance you've given so many ...</td>\n",
       "    </tr>\n",
       "    <tr>\n",
       "      <th>4</th>\n",
       "      <td>Did any of you actively avoid LGBTQ things/peo...</td>\n",
       "      <td>ivegotyoupegged</td>\n",
       "      <td>ainbow</td>\n",
       "      <td>I've had this issue for the better part of a y...</td>\n",
       "    </tr>\n",
       "  </tbody>\n",
       "</table>\n",
       "</div>"
      ],
      "text/plain": [
       "                                               title             auth  \\\n",
       "0  I created an Omegle Clone that actually helps ...        lolroofus   \n",
       "1                  My boyfriend came out to me as bi  glassAdvertiser   \n",
       "2                           A celebration of a queen        Max_E_Mas   \n",
       "3                       Thank you, old queer people    Wonderful_Toes   \n",
       "4  Did any of you actively avoid LGBTQ things/peo...  ivegotyoupegged   \n",
       "\n",
       "  subreddit                                               text  \n",
       "0    ainbow                                                     \n",
       "1    ainbow  Hi everyone, I really need some advice! \\n\\nMy...  \n",
       "2    ainbow  If you are not up to date on Jeopardy I sugges...  \n",
       "3    ainbow  Thank you for the chance you've given so many ...  \n",
       "4    ainbow  I've had this issue for the better part of a y...  "
      ]
     },
     "execution_count": 24,
     "metadata": {},
     "output_type": "execute_result"
    }
   ],
   "source": [
    "rainbow = pd.read_csv('/Users/khalildavis/Desktop/General Assembly Work/Submissions/Projects/project-3-master/Project 3 Submission/Data/rainbow_clean.csv')\n",
    "rainbow.head(5)"
   ]
  },
  {
   "cell_type": "code",
   "execution_count": null,
   "metadata": {},
   "outputs": [
    {
     "name": "stdout",
     "output_type": "stream",
     "text": [
      "<class 'pandas.core.frame.DataFrame'>\n",
      "RangeIndex: 6990 entries, 0 to 6989\n",
      "Data columns (total 6 columns):\n",
      " #   Column      Non-Null Count  Dtype \n",
      "---  ------      --------------  ----- \n",
      " 0   Unnamed: 0  6990 non-null   int64 \n",
      " 1   title       6990 non-null   object\n",
      " 2   auth        6990 non-null   object\n",
      " 3   time        6990 non-null   int64 \n",
      " 4   subreddit   6990 non-null   object\n",
      " 5   text        2992 non-null   object\n",
      "dtypes: int64(2), object(4)\n",
      "memory usage: 327.8+ KB\n"
     ]
    }
   ],
   "source": [
    "#Checking to see if there are any missing values or any uncessary columns to remove\n",
    "\n",
    "rainbow.info()"
   ]
  },
  {
   "cell_type": "code",
   "execution_count": null,
   "metadata": {},
   "outputs": [],
   "source": [
    "#Using the code to drop the 'Unnamed: 0' & 'time' columns\n",
    "\n",
    "rainbow.drop(columns=['Unnamed: 0', 'time'], inplace=True)"
   ]
  },
  {
   "cell_type": "code",
   "execution_count": null,
   "metadata": {},
   "outputs": [
    {
     "data": {
      "text/html": [
       "<div>\n",
       "<style scoped>\n",
       "    .dataframe tbody tr th:only-of-type {\n",
       "        vertical-align: middle;\n",
       "    }\n",
       "\n",
       "    .dataframe tbody tr th {\n",
       "        vertical-align: top;\n",
       "    }\n",
       "\n",
       "    .dataframe thead th {\n",
       "        text-align: right;\n",
       "    }\n",
       "</style>\n",
       "<table border=\"1\" class=\"dataframe\">\n",
       "  <thead>\n",
       "    <tr style=\"text-align: right;\">\n",
       "      <th></th>\n",
       "      <th>title</th>\n",
       "      <th>auth</th>\n",
       "      <th>subreddit</th>\n",
       "      <th>text</th>\n",
       "    </tr>\n",
       "  </thead>\n",
       "  <tbody>\n",
       "    <tr>\n",
       "      <th>0</th>\n",
       "      <td>I created an Omegle Clone that actually helps ...</td>\n",
       "      <td>lolroofus</td>\n",
       "      <td>ainbow</td>\n",
       "      <td>NaN</td>\n",
       "    </tr>\n",
       "    <tr>\n",
       "      <th>1</th>\n",
       "      <td>My boyfriend came out to me as bi</td>\n",
       "      <td>glassAdvertiser</td>\n",
       "      <td>ainbow</td>\n",
       "      <td>Hi everyone, I really need some advice! \\n\\nMy...</td>\n",
       "    </tr>\n",
       "  </tbody>\n",
       "</table>\n",
       "</div>"
      ],
      "text/plain": [
       "                                               title             auth  \\\n",
       "0  I created an Omegle Clone that actually helps ...        lolroofus   \n",
       "1                  My boyfriend came out to me as bi  glassAdvertiser   \n",
       "\n",
       "  subreddit                                               text  \n",
       "0    ainbow                                                NaN  \n",
       "1    ainbow  Hi everyone, I really need some advice! \\n\\nMy...  "
      ]
     },
     "execution_count": 329,
     "metadata": {},
     "output_type": "execute_result"
    }
   ],
   "source": [
    "#Check to see the columns were properly dropped\n",
    "rainbow.head(2)"
   ]
  },
  {
   "cell_type": "code",
   "execution_count": null,
   "metadata": {},
   "outputs": [
    {
     "name": "stdout",
     "output_type": "stream",
     "text": [
      "<class 'pandas.core.frame.DataFrame'>\n",
      "RangeIndex: 6990 entries, 0 to 6989\n",
      "Data columns (total 4 columns):\n",
      " #   Column     Non-Null Count  Dtype \n",
      "---  ------     --------------  ----- \n",
      " 0   title      6990 non-null   object\n",
      " 1   auth       6990 non-null   object\n",
      " 2   subreddit  6990 non-null   object\n",
      " 3   text       2992 non-null   object\n",
      "dtypes: object(4)\n",
      "memory usage: 218.6+ KB\n"
     ]
    }
   ],
   "source": [
    "rainbow.info()"
   ]
  },
  {
   "cell_type": "code",
   "execution_count": null,
   "metadata": {},
   "outputs": [
    {
     "data": {
      "text/plain": [
       "130"
      ]
     },
     "execution_count": 331,
     "metadata": {},
     "output_type": "execute_result"
    }
   ],
   "source": [
    "#Code for checking to see if there are duplicates\n",
    "\n",
    "rainbow.duplicated().sum()"
   ]
  },
  {
   "cell_type": "markdown",
   "metadata": {},
   "source": [
    "**Observation:**\n",
    "There are 130 duplicates that need to be removed from the dataframe. The duplicates only account for 1.9% of my data. Removing the duplicates will not harm my data. I still have 6,860 to work with."
   ]
  },
  {
   "cell_type": "code",
   "execution_count": null,
   "metadata": {},
   "outputs": [],
   "source": [
    "#Code to removed the duplicates from the dataframe\n",
    "\n",
    "rainbow.drop_duplicates(inplace=True)"
   ]
  },
  {
   "cell_type": "code",
   "execution_count": null,
   "metadata": {},
   "outputs": [
    {
     "data": {
      "text/plain": [
       "(6860, 4)"
      ]
     },
     "execution_count": 333,
     "metadata": {},
     "output_type": "execute_result"
    }
   ],
   "source": [
    "#Checked to see if the duplicates were properly dropped\n",
    "\n",
    "rainbow.shape"
   ]
  },
  {
   "cell_type": "code",
   "execution_count": null,
   "metadata": {},
   "outputs": [
    {
     "data": {
      "text/plain": [
       "0"
      ]
     },
     "execution_count": 334,
     "metadata": {},
     "output_type": "execute_result"
    }
   ],
   "source": [
    "#The duplicates have been removed\n",
    "\n",
    "rainbow.duplicated().sum()"
   ]
  },
  {
   "cell_type": "code",
   "execution_count": null,
   "metadata": {},
   "outputs": [
    {
     "data": {
      "text/plain": [
       "757"
      ]
     },
     "execution_count": 335,
     "metadata": {},
     "output_type": "execute_result"
    }
   ],
   "source": [
    "rainbow[rainbow['text'] == '[removed]'].value_counts().sum()"
   ]
  },
  {
   "cell_type": "markdown",
   "metadata": {},
   "source": [
    "**Observation**:\n",
    "Seeing that the 'text' column has 2,992 non-null cells, the percentage of 43% states to me that this a problem I must correct. Then I noticed that there are 757 ['removed'] which accounts for 25% of the 43% of the non-null cells. 25% is the word '[removed]' and 18% is 'Nan'.\n",
    "\n",
    "Instead of pulling more data, I have decided to fill the rows with an empty string and delete any rows that contain the word '[removed]'.  "
   ]
  },
  {
   "cell_type": "code",
   "execution_count": null,
   "metadata": {},
   "outputs": [],
   "source": [
    "# Filling the 'Nan' values\n",
    "rainbow['text'].fillna(' ', inplace=True)"
   ]
  },
  {
   "cell_type": "code",
   "execution_count": null,
   "metadata": {},
   "outputs": [
    {
     "data": {
      "text/plain": [
       "(6860, 4)"
      ]
     },
     "execution_count": 337,
     "metadata": {},
     "output_type": "execute_result"
    }
   ],
   "source": [
    "rainbow.shape"
   ]
  },
  {
   "cell_type": "code",
   "execution_count": null,
   "metadata": {},
   "outputs": [
    {
     "data": {
      "text/plain": [
       "74"
      ]
     },
     "execution_count": 338,
     "metadata": {},
     "output_type": "execute_result"
    }
   ],
   "source": [
    "#Check to see if there are any '[deleted]' within the df\n",
    "\n",
    "rainbow[rainbow['text'] == '[deleted]'].value_counts().sum()"
   ]
  },
  {
   "cell_type": "code",
   "execution_count": null,
   "metadata": {},
   "outputs": [],
   "source": [
    "#To remove the '[deleted]'\n",
    "rainbow = rainbow[rainbow['text'] != '[deleted]']"
   ]
  },
  {
   "cell_type": "markdown",
   "metadata": {},
   "source": [
    "**Observation**:\n",
    "This action lets me know that I was successful in filling the rows that had 'Nan in them although there are still words such as \"[removed]\" that need to be taken out. "
   ]
  },
  {
   "cell_type": "code",
   "execution_count": null,
   "metadata": {},
   "outputs": [],
   "source": [
    "# The code to remove the '[removed]' in text column\n",
    "\n",
    "rainbow = rainbow[rainbow['text'] != '[removed]']"
   ]
  },
  {
   "cell_type": "code",
   "execution_count": null,
   "metadata": {},
   "outputs": [
    {
     "data": {
      "text/plain": [
       "0"
      ]
     },
     "execution_count": 341,
     "metadata": {},
     "output_type": "execute_result"
    }
   ],
   "source": [
    "#Checked to see if the '[removed]' has been deleted\n",
    "\n",
    "rainbow[rainbow['text'] == '[removed]'].value_counts().sum()"
   ]
  },
  {
   "cell_type": "code",
   "execution_count": null,
   "metadata": {},
   "outputs": [
    {
     "name": "stdout",
     "output_type": "stream",
     "text": [
      "<class 'pandas.core.frame.DataFrame'>\n",
      "Int64Index: 6029 entries, 0 to 6989\n",
      "Data columns (total 4 columns):\n",
      " #   Column     Non-Null Count  Dtype \n",
      "---  ------     --------------  ----- \n",
      " 0   title      6029 non-null   object\n",
      " 1   auth       6029 non-null   object\n",
      " 2   subreddit  6029 non-null   object\n",
      " 3   text       6029 non-null   object\n",
      "dtypes: object(4)\n",
      "memory usage: 235.5+ KB\n"
     ]
    }
   ],
   "source": [
    "\n",
    "rainbow.info()"
   ]
  },
  {
   "cell_type": "markdown",
   "metadata": {},
   "source": [
    "**Observation:**\n",
    "I have noticed that this dataframe contains a heavy amount of emojis especially within the 'title' &  'text' columns. I have found the code to remove them with the help of 'StackOverflow' and save it to the rainbow_clean dataframe."
   ]
  },
  {
   "cell_type": "code",
   "execution_count": null,
   "metadata": {},
   "outputs": [],
   "source": [
    "#This code came from StackOverflow to help remove emojis\n",
    "\n",
    "rainbow = rainbow.astype(str).apply(lambda x: x.str.encode('ascii', 'ignore').str.decode('ascii'))"
   ]
  },
  {
   "cell_type": "code",
   "execution_count": null,
   "metadata": {},
   "outputs": [],
   "source": [
    "rainbow.to_csv('rainbow_clean.csv', index=False)"
   ]
  },
  {
   "cell_type": "markdown",
   "metadata": {},
   "source": [
    "# Merge Clean Dataframes together"
   ]
  },
  {
   "cell_type": "code",
   "execution_count": null,
   "metadata": {},
   "outputs": [
    {
     "data": {
      "text/html": [
       "<div>\n",
       "<style scoped>\n",
       "    .dataframe tbody tr th:only-of-type {\n",
       "        vertical-align: middle;\n",
       "    }\n",
       "\n",
       "    .dataframe tbody tr th {\n",
       "        vertical-align: top;\n",
       "    }\n",
       "\n",
       "    .dataframe thead th {\n",
       "        text-align: right;\n",
       "    }\n",
       "</style>\n",
       "<table border=\"1\" class=\"dataframe\">\n",
       "  <thead>\n",
       "    <tr style=\"text-align: right;\">\n",
       "      <th></th>\n",
       "      <th>title</th>\n",
       "      <th>auth</th>\n",
       "      <th>subreddit</th>\n",
       "      <th>text</th>\n",
       "    </tr>\n",
       "  </thead>\n",
       "  <tbody>\n",
       "    <tr>\n",
       "      <th>1</th>\n",
       "      <td>What's the difference between transitioning wo...</td>\n",
       "      <td>SnooChocolates8273</td>\n",
       "      <td>asktransgender</td>\n",
       "      <td>When I look at a beautiful woman I see a beaut...</td>\n",
       "    </tr>\n",
       "    <tr>\n",
       "      <th>2</th>\n",
       "      <td>Did you also have this?</td>\n",
       "      <td>HoldTheStocks2</td>\n",
       "      <td>asktransgender</td>\n",
       "      <td>When I was like 10-14 I was searching all over...</td>\n",
       "    </tr>\n",
       "    <tr>\n",
       "      <th>3</th>\n",
       "      <td>How many times a week do you dilatate?</td>\n",
       "      <td>Kind_Lemon</td>\n",
       "      <td>asktransgender</td>\n",
       "      <td>Hello!\\n\\nI am seven years post-surgical MtF, ...</td>\n",
       "    </tr>\n",
       "    <tr>\n",
       "      <th>4</th>\n",
       "      <td>Coming out to my mother (again)</td>\n",
       "      <td>mwnahas</td>\n",
       "      <td>asktransgender</td>\n",
       "      <td>Ive already done it about 1.5 years ago. She w...</td>\n",
       "    </tr>\n",
       "    <tr>\n",
       "      <th>5</th>\n",
       "      <td>Foot hurts is it hrt</td>\n",
       "      <td>Anastasia69Sanchez</td>\n",
       "      <td>asktransgender</td>\n",
       "      <td>I heard foot gets smaller . Idk if I'm getting...</td>\n",
       "    </tr>\n",
       "  </tbody>\n",
       "</table>\n",
       "</div>"
      ],
      "text/plain": [
       "                                               title                auth  \\\n",
       "1  What's the difference between transitioning wo...  SnooChocolates8273   \n",
       "2                            Did you also have this?      HoldTheStocks2   \n",
       "3             How many times a week do you dilatate?          Kind_Lemon   \n",
       "4                    Coming out to my mother (again)             mwnahas   \n",
       "5                               Foot hurts is it hrt  Anastasia69Sanchez   \n",
       "\n",
       "        subreddit                                               text  \n",
       "1  asktransgender  When I look at a beautiful woman I see a beaut...  \n",
       "2  asktransgender  When I was like 10-14 I was searching all over...  \n",
       "3  asktransgender  Hello!\\n\\nI am seven years post-surgical MtF, ...  \n",
       "4  asktransgender  Ive already done it about 1.5 years ago. She w...  \n",
       "5  asktransgender  I heard foot gets smaller . Idk if I'm getting...  "
      ]
     },
     "execution_count": 345,
     "metadata": {},
     "output_type": "execute_result"
    }
   ],
   "source": [
    "combo_clean = pd.concat([ask_trans, rainbow])\n",
    "combo_clean.head()"
   ]
  },
  {
   "cell_type": "code",
   "execution_count": null,
   "metadata": {},
   "outputs": [
    {
     "name": "stdout",
     "output_type": "stream",
     "text": [
      "<class 'pandas.core.frame.DataFrame'>\n",
      "Int64Index: 12318 entries, 1 to 6989\n",
      "Data columns (total 4 columns):\n",
      " #   Column     Non-Null Count  Dtype \n",
      "---  ------     --------------  ----- \n",
      " 0   title      12318 non-null  object\n",
      " 1   auth       12318 non-null  object\n",
      " 2   subreddit  12318 non-null  object\n",
      " 3   text       12318 non-null  object\n",
      "dtypes: object(4)\n",
      "memory usage: 481.2+ KB\n"
     ]
    }
   ],
   "source": [
    "combo_clean.info()"
   ]
  },
  {
   "cell_type": "code",
   "execution_count": null,
   "metadata": {},
   "outputs": [],
   "source": [
    "combo_clean.to_csv('combo_clean.csv', index=False)"
   ]
  },
  {
   "cell_type": "code",
   "execution_count": null,
   "metadata": {},
   "outputs": [
    {
     "data": {
      "text/html": [
       "<div>\n",
       "<style scoped>\n",
       "    .dataframe tbody tr th:only-of-type {\n",
       "        vertical-align: middle;\n",
       "    }\n",
       "\n",
       "    .dataframe tbody tr th {\n",
       "        vertical-align: top;\n",
       "    }\n",
       "\n",
       "    .dataframe thead th {\n",
       "        text-align: right;\n",
       "    }\n",
       "</style>\n",
       "<table border=\"1\" class=\"dataframe\">\n",
       "  <thead>\n",
       "    <tr style=\"text-align: right;\">\n",
       "      <th></th>\n",
       "      <th>title</th>\n",
       "      <th>auth</th>\n",
       "      <th>subreddit</th>\n",
       "      <th>text</th>\n",
       "      <th>is_asktransgender</th>\n",
       "    </tr>\n",
       "  </thead>\n",
       "  <tbody>\n",
       "    <tr>\n",
       "      <th>1</th>\n",
       "      <td>What's the difference between transitioning wo...</td>\n",
       "      <td>SnooChocolates8273</td>\n",
       "      <td>asktransgender</td>\n",
       "      <td>When I look at a beautiful woman I see a beaut...</td>\n",
       "      <td>1</td>\n",
       "    </tr>\n",
       "    <tr>\n",
       "      <th>2</th>\n",
       "      <td>Did you also have this?</td>\n",
       "      <td>HoldTheStocks2</td>\n",
       "      <td>asktransgender</td>\n",
       "      <td>When I was like 10-14 I was searching all over...</td>\n",
       "      <td>1</td>\n",
       "    </tr>\n",
       "    <tr>\n",
       "      <th>3</th>\n",
       "      <td>How many times a week do you dilatate?</td>\n",
       "      <td>Kind_Lemon</td>\n",
       "      <td>asktransgender</td>\n",
       "      <td>Hello!\\n\\nI am seven years post-surgical MtF, ...</td>\n",
       "      <td>1</td>\n",
       "    </tr>\n",
       "    <tr>\n",
       "      <th>4</th>\n",
       "      <td>Coming out to my mother (again)</td>\n",
       "      <td>mwnahas</td>\n",
       "      <td>asktransgender</td>\n",
       "      <td>Ive already done it about 1.5 years ago. She w...</td>\n",
       "      <td>1</td>\n",
       "    </tr>\n",
       "    <tr>\n",
       "      <th>5</th>\n",
       "      <td>Foot hurts is it hrt</td>\n",
       "      <td>Anastasia69Sanchez</td>\n",
       "      <td>asktransgender</td>\n",
       "      <td>I heard foot gets smaller . Idk if I'm getting...</td>\n",
       "      <td>1</td>\n",
       "    </tr>\n",
       "  </tbody>\n",
       "</table>\n",
       "</div>"
      ],
      "text/plain": [
       "                                               title                auth  \\\n",
       "1  What's the difference between transitioning wo...  SnooChocolates8273   \n",
       "2                            Did you also have this?      HoldTheStocks2   \n",
       "3             How many times a week do you dilatate?          Kind_Lemon   \n",
       "4                    Coming out to my mother (again)             mwnahas   \n",
       "5                               Foot hurts is it hrt  Anastasia69Sanchez   \n",
       "\n",
       "        subreddit                                               text  \\\n",
       "1  asktransgender  When I look at a beautiful woman I see a beaut...   \n",
       "2  asktransgender  When I was like 10-14 I was searching all over...   \n",
       "3  asktransgender  Hello!\\n\\nI am seven years post-surgical MtF, ...   \n",
       "4  asktransgender  Ive already done it about 1.5 years ago. She w...   \n",
       "5  asktransgender  I heard foot gets smaller . Idk if I'm getting...   \n",
       "\n",
       "   is_asktransgender  \n",
       "1                  1  \n",
       "2                  1  \n",
       "3                  1  \n",
       "4                  1  \n",
       "5                  1  "
      ]
     },
     "execution_count": 348,
     "metadata": {},
     "output_type": "execute_result"
    }
   ],
   "source": [
    "combo_clean['is_asktransgender'] = [1 if i == 'asktransgender' else 0 for i in combo_clean['subreddit']]\n",
    "combo_clean.head()"
   ]
  },
  {
   "cell_type": "code",
   "execution_count": null,
   "metadata": {},
   "outputs": [],
   "source": [
    "combo_clean.to_csv('combo_clean_binary.csv', index=False)"
   ]
  },
  {
   "cell_type": "code",
   "execution_count": null,
   "metadata": {},
   "outputs": [
    {
     "data": {
      "text/plain": [
       "title                0\n",
       "auth                 0\n",
       "subreddit            0\n",
       "text                 0\n",
       "is_asktransgender    0\n",
       "dtype: int64"
      ]
     },
     "execution_count": 354,
     "metadata": {},
     "output_type": "execute_result"
    }
   ],
   "source": [
    "combo_clean.isna().sum()"
   ]
  },
  {
   "cell_type": "markdown",
   "metadata": {},
   "source": [
    "# Data Dictionary"
   ]
  },
  {
   "cell_type": "markdown",
   "metadata": {},
   "source": [
    "|Feature|Type|Dataset|Description|\n",
    "|---|---|---|---|\n",
    "|r/asktransgender|object|rainbow_clean df|Subreddit that focuses on transgender advice|\n",
    "|r/ainbow| object| ask_trans_clean df | Subreddit that focuses on lgbt advice\n",
    "|combo_clean|object|combo_clean df|Combining the two subreddits to make a full df"
   ]
  }
 ],
 "metadata": {
  "interpreter": {
   "hash": "40d3a090f54c6569ab1632332b64b2c03c39dcf918b08424e98f38b5ae0af88f"
  },
  "kernelspec": {
   "display_name": "Python 3.9.7 64-bit ('base': conda)",
   "language": "python",
   "name": "python3"
  },
  "language_info": {
   "codemirror_mode": {
    "name": "ipython",
    "version": 3
   },
   "file_extension": ".py",
   "mimetype": "text/x-python",
   "name": "python",
   "nbconvert_exporter": "python",
   "pygments_lexer": "ipython3",
   "version": "3.9.7"
  },
  "orig_nbformat": 4
 },
 "nbformat": 4,
 "nbformat_minor": 2
}
