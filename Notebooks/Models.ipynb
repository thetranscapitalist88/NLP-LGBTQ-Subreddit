{
 "cells": [
  {
   "cell_type": "markdown",
   "metadata": {},
   "source": [
    "# Model Testing"
   ]
  },
  {
   "cell_type": "markdown",
   "metadata": {},
   "source": [
    "# Import Libraries & Tools"
   ]
  },
  {
   "cell_type": "code",
   "execution_count": 1,
   "metadata": {},
   "outputs": [],
   "source": [
    "import pandas as pd\n",
    "import numpy as np\n",
    "import matplotlib.pyplot as plt\n",
    "import seaborn as sns\n",
    "\n",
    "from sklearn.model_selection import train_test_split, GridSearchCV, RandomizedSearchCV\n",
    "from sklearn.linear_model import LinearRegression, Ridge, Lasso, ElasticNet, LogisticRegression \n",
    "from sklearn.impute import SimpleImputer\n",
    "from sklearn.neighbors import KNeighborsClassifier\n",
    "from sklearn.compose import make_column_transformer\n",
    "from sklearn.pipeline import Pipeline, make_pipeline\n",
    "from sklearn.preprocessing import OneHotEncoder, StandardScaler, PolynomialFeatures\n",
    "from sklearn.feature_selection import RFE\n",
    "from sklearn.metrics import mean_squared_error, mean_absolute_error, r2_score, balanced_accuracy_score, ConfusionMatrixDisplay, RocCurveDisplay\n",
    "from sklearn.feature_extraction.text import CountVectorizer, TfidfVectorizer\n",
    "from sklearn.naive_bayes import MultinomialNB\n",
    "from sklearn.dummy import DummyClassifier\n",
    "from sklearn.ensemble import BaggingClassifier, VotingClassifier, VotingRegressor\n",
    "from sklearn.tree import DecisionTreeRegressor, DecisionTreeClassifier\n"
   ]
  },
  {
   "cell_type": "markdown",
   "metadata": {},
   "source": [
    "# Read in the Data"
   ]
  },
  {
   "cell_type": "code",
   "execution_count": 3,
   "metadata": {},
   "outputs": [
    {
     "data": {
      "text/html": [
       "<div>\n",
       "<style scoped>\n",
       "    .dataframe tbody tr th:only-of-type {\n",
       "        vertical-align: middle;\n",
       "    }\n",
       "\n",
       "    .dataframe tbody tr th {\n",
       "        vertical-align: top;\n",
       "    }\n",
       "\n",
       "    .dataframe thead th {\n",
       "        text-align: right;\n",
       "    }\n",
       "</style>\n",
       "<table border=\"1\" class=\"dataframe\">\n",
       "  <thead>\n",
       "    <tr style=\"text-align: right;\">\n",
       "      <th></th>\n",
       "      <th>title</th>\n",
       "      <th>auth</th>\n",
       "      <th>subreddit</th>\n",
       "      <th>text</th>\n",
       "      <th>is_asktransgender</th>\n",
       "    </tr>\n",
       "  </thead>\n",
       "  <tbody>\n",
       "    <tr>\n",
       "      <th>0</th>\n",
       "      <td>What's the difference between transitioning wo...</td>\n",
       "      <td>SnooChocolates8273</td>\n",
       "      <td>asktransgender</td>\n",
       "      <td>When I look at a beautiful woman I see a beaut...</td>\n",
       "      <td>1</td>\n",
       "    </tr>\n",
       "    <tr>\n",
       "      <th>1</th>\n",
       "      <td>Did you also have this?</td>\n",
       "      <td>HoldTheStocks2</td>\n",
       "      <td>asktransgender</td>\n",
       "      <td>When I was like 10-14 I was searching all over...</td>\n",
       "      <td>1</td>\n",
       "    </tr>\n",
       "    <tr>\n",
       "      <th>2</th>\n",
       "      <td>How many times a week do you dilatate?</td>\n",
       "      <td>Kind_Lemon</td>\n",
       "      <td>asktransgender</td>\n",
       "      <td>Hello!\\n\\nI am seven years post-surgical MtF, ...</td>\n",
       "      <td>1</td>\n",
       "    </tr>\n",
       "    <tr>\n",
       "      <th>3</th>\n",
       "      <td>Coming out to my mother (again)</td>\n",
       "      <td>mwnahas</td>\n",
       "      <td>asktransgender</td>\n",
       "      <td>Ive already done it about 1.5 years ago. She w...</td>\n",
       "      <td>1</td>\n",
       "    </tr>\n",
       "    <tr>\n",
       "      <th>4</th>\n",
       "      <td>Foot hurts is it hrt</td>\n",
       "      <td>Anastasia69Sanchez</td>\n",
       "      <td>asktransgender</td>\n",
       "      <td>I heard foot gets smaller . Idk if I'm getting...</td>\n",
       "      <td>1</td>\n",
       "    </tr>\n",
       "  </tbody>\n",
       "</table>\n",
       "</div>"
      ],
      "text/plain": [
       "                                               title                auth  \\\n",
       "0  What's the difference between transitioning wo...  SnooChocolates8273   \n",
       "1                            Did you also have this?      HoldTheStocks2   \n",
       "2             How many times a week do you dilatate?          Kind_Lemon   \n",
       "3                    Coming out to my mother (again)             mwnahas   \n",
       "4                               Foot hurts is it hrt  Anastasia69Sanchez   \n",
       "\n",
       "        subreddit                                               text  \\\n",
       "0  asktransgender  When I look at a beautiful woman I see a beaut...   \n",
       "1  asktransgender  When I was like 10-14 I was searching all over...   \n",
       "2  asktransgender  Hello!\\n\\nI am seven years post-surgical MtF, ...   \n",
       "3  asktransgender  Ive already done it about 1.5 years ago. She w...   \n",
       "4  asktransgender  I heard foot gets smaller . Idk if I'm getting...   \n",
       "\n",
       "   is_asktransgender  \n",
       "0                  1  \n",
       "1                  1  \n",
       "2                  1  \n",
       "3                  1  \n",
       "4                  1  "
      ]
     },
     "execution_count": 3,
     "metadata": {},
     "output_type": "execute_result"
    }
   ],
   "source": [
    "#Loading in the data \n",
    "# Starting with mnb = Multinomial Naive Bayes\n",
    "\n",
    "combo_clean = pd.read_csv('/Users/khalildavis/Desktop/General Assembly Work/Submissions/Projects/project-3-master/Project 3 Submission/Data/combo_clean.csv')\n",
    "combo_clean.head() "
   ]
  },
  {
   "cell_type": "markdown",
   "metadata": {},
   "source": [
    "# Additional Cleaning*\n",
    "\n",
    "*Please read the observation below*"
   ]
  },
  {
   "cell_type": "markdown",
   "metadata": {},
   "source": [
    "**Observation:**\n",
    "Now this is weird to me because if you check the cleaning notebook, I doubled check befored I combined my two dataframes together and saved it to a csv file. I double checked if there were any missing when they we seperated and after I combined them. Yet, it shows within the info that in title there are 'NaN's inside the title column. Either way, I corrected it by using dropna. I dropped because I still have a lot of data to work with. "
   ]
  },
  {
   "cell_type": "code",
   "execution_count": 4,
   "metadata": {},
   "outputs": [
    {
     "name": "stdout",
     "output_type": "stream",
     "text": [
      "<class 'pandas.core.frame.DataFrame'>\n",
      "RangeIndex: 12318 entries, 0 to 12317\n",
      "Data columns (total 5 columns):\n",
      " #   Column             Non-Null Count  Dtype \n",
      "---  ------             --------------  ----- \n",
      " 0   title              12299 non-null  object\n",
      " 1   auth               12318 non-null  object\n",
      " 2   subreddit          12318 non-null  object\n",
      " 3   text               12318 non-null  object\n",
      " 4   is_asktransgender  12318 non-null  int64 \n",
      "dtypes: int64(1), object(4)\n",
      "memory usage: 481.3+ KB\n"
     ]
    }
   ],
   "source": [
    "combo_clean.info()"
   ]
  },
  {
   "cell_type": "code",
   "execution_count": 5,
   "metadata": {},
   "outputs": [
    {
     "data": {
      "text/plain": [
       "title                19\n",
       "auth                  0\n",
       "subreddit             0\n",
       "text                  0\n",
       "is_asktransgender     0\n",
       "dtype: int64"
      ]
     },
     "execution_count": 5,
     "metadata": {},
     "output_type": "execute_result"
    }
   ],
   "source": [
    "combo_clean.isna().sum()"
   ]
  },
  {
   "cell_type": "code",
   "execution_count": 6,
   "metadata": {},
   "outputs": [],
   "source": [
    "combo_clean.dropna(inplace=True)"
   ]
  },
  {
   "cell_type": "code",
   "execution_count": 7,
   "metadata": {},
   "outputs": [
    {
     "data": {
      "text/plain": [
       "title                0\n",
       "auth                 0\n",
       "subreddit            0\n",
       "text                 0\n",
       "is_asktransgender    0\n",
       "dtype: int64"
      ]
     },
     "execution_count": 7,
     "metadata": {},
     "output_type": "execute_result"
    }
   ],
   "source": [
    "#To check if the rows were dropped from the df\n",
    "\n",
    "combo_clean.isna().sum()"
   ]
  },
  {
   "cell_type": "markdown",
   "metadata": {},
   "source": [
    "# Setting up Train-Test-Split "
   ]
  },
  {
   "cell_type": "code",
   "execution_count": 8,
   "metadata": {},
   "outputs": [
    {
     "data": {
      "text/plain": [
       "asktransgender    6289\n",
       "ainbow            6010\n",
       "Name: subreddit, dtype: int64"
      ]
     },
     "execution_count": 8,
     "metadata": {},
     "output_type": "execute_result"
    }
   ],
   "source": [
    "#Checking out to see if my data is balanced before I train-test-split\n",
    "combo_clean['subreddit'].value_counts()"
   ]
  },
  {
   "cell_type": "markdown",
   "metadata": {},
   "source": [
    "**Observation:**\n",
    "I've decided to use the 'title' column for my X because within both datasets the titles have more reliable text in them than the text column itself, especially in the rainbow data frame. I've mentioned in the cleaning notebook that 43% of my data was filled with NaN's or '[removed]' or '[deleted]' yet their titles wasare still intact. "
   ]
  },
  {
   "cell_type": "code",
   "execution_count": 10,
   "metadata": {},
   "outputs": [],
   "source": [
    "#Extracting feature array of X using only the 'title'\n",
    "\n",
    "X = combo_clean['title']"
   ]
  },
  {
   "cell_type": "code",
   "execution_count": 11,
   "metadata": {},
   "outputs": [],
   "source": [
    "#Definging my y because this is the target for my models\n",
    "\n",
    "y = combo_clean['is_asktransgender']"
   ]
  },
  {
   "cell_type": "code",
   "execution_count": 12,
   "metadata": {},
   "outputs": [],
   "source": [
    "#Splitting the data for default split\n",
    "\n",
    "X_train, X_test, y_train, y_test = train_test_split(X, y, random_state=11, stratify=y)"
   ]
  },
  {
   "cell_type": "markdown",
   "metadata": {},
   "source": []
  },
  {
   "cell_type": "markdown",
   "metadata": {},
   "source": [
    "# The Null Model"
   ]
  },
  {
   "cell_type": "code",
   "execution_count": 13,
   "metadata": {},
   "outputs": [
    {
     "data": {
      "text/plain": [
       "0.511219512195122"
      ]
     },
     "execution_count": 13,
     "metadata": {},
     "output_type": "execute_result"
    }
   ],
   "source": [
    "# See how the null model compared\n",
    "\n",
    "null_model = DummyClassifier()\n",
    "null_model.fit(X_train, y_train)\n",
    "null_model.score(X_test, y_test)"
   ]
  },
  {
   "cell_type": "markdown",
   "metadata": {},
   "source": [
    "**Observation:**\n",
    "The null model that I will compare all my models too. I used the quick method of a Dummy Classifier. Since, my data of the two dataframes are close, the null model accuracy classifier is at 51%."
   ]
  },
  {
   "cell_type": "markdown",
   "metadata": {},
   "source": [
    "# CountVectorizer with Multinomial Naive Bayes "
   ]
  },
  {
   "cell_type": "code",
   "execution_count": 14,
   "metadata": {},
   "outputs": [
    {
     "data": {
      "text/plain": [
       "GridSearchCV(estimator=Pipeline(steps=[('countvectorizer',\n",
       "                                        CountVectorizer(stop_words='english')),\n",
       "                                       ('multinomialnb', MultinomialNB())]),\n",
       "             n_jobs=-1,\n",
       "             param_grid={'countvectorizer__max_df': [0.9, 1],\n",
       "                         'countvectorizer__min_df': [0],\n",
       "                         'countvectorizer__ngram_range': [(1, 2), (1, 3)],\n",
       "                         'multinomialnb__alpha': [0.1, 2]})"
      ]
     },
     "execution_count": 14,
     "metadata": {},
     "output_type": "execute_result"
    }
   ],
   "source": [
    "#Instantiate CountVectorizer & MultinomialNB\n",
    "cvect = CountVectorizer(stop_words='english')\n",
    "nbayes = MultinomialNB()\n",
    "\n",
    "#Using a pipeline to expedite the model with params\n",
    "pipe1 = make_pipeline(\n",
    "cvect,\n",
    "nbayes\n",
    ")\n",
    "\n",
    "#Choice of params\n",
    "params1 = {\n",
    "    'countvectorizer__max_df':[0.9, 1],\n",
    "    'countvectorizer__min_df':[0],\n",
    "    'countvectorizer__ngram_range':[(1,2),(1,3)],\n",
    "    'multinomialnb__alpha':[0.1, 2],\n",
    "\n",
    "}\n",
    "\n",
    "#Decided to do a gridsearch because I want to find the best model possible\n",
    "gs = GridSearchCV(pipe1, params1, n_jobs=-1)\n",
    "\n",
    "#Fitting the model\n",
    "gs.fit(X_train, y_train) "
   ]
  },
  {
   "cell_type": "code",
   "execution_count": 15,
   "metadata": {},
   "outputs": [
    {
     "data": {
      "text/html": [
       "<div>\n",
       "<style scoped>\n",
       "    .dataframe tbody tr th:only-of-type {\n",
       "        vertical-align: middle;\n",
       "    }\n",
       "\n",
       "    .dataframe tbody tr th {\n",
       "        vertical-align: top;\n",
       "    }\n",
       "\n",
       "    .dataframe thead th {\n",
       "        text-align: right;\n",
       "    }\n",
       "</style>\n",
       "<table border=\"1\" class=\"dataframe\">\n",
       "  <thead>\n",
       "    <tr style=\"text-align: right;\">\n",
       "      <th></th>\n",
       "      <th>params</th>\n",
       "      <th>mean_test_score</th>\n",
       "    </tr>\n",
       "  </thead>\n",
       "  <tbody>\n",
       "    <tr>\n",
       "      <th>5</th>\n",
       "      <td>{'countvectorizer__max_df': 1, 'countvectorize...</td>\n",
       "      <td>0.633782</td>\n",
       "    </tr>\n",
       "    <tr>\n",
       "      <th>4</th>\n",
       "      <td>{'countvectorizer__max_df': 1, 'countvectorize...</td>\n",
       "      <td>0.634107</td>\n",
       "    </tr>\n",
       "    <tr>\n",
       "      <th>7</th>\n",
       "      <td>{'countvectorizer__max_df': 1, 'countvectorize...</td>\n",
       "      <td>0.636818</td>\n",
       "    </tr>\n",
       "    <tr>\n",
       "      <th>6</th>\n",
       "      <td>{'countvectorizer__max_df': 1, 'countvectorize...</td>\n",
       "      <td>0.637360</td>\n",
       "    </tr>\n",
       "    <tr>\n",
       "      <th>2</th>\n",
       "      <td>{'countvectorizer__max_df': 0.9, 'countvectori...</td>\n",
       "      <td>0.817216</td>\n",
       "    </tr>\n",
       "    <tr>\n",
       "      <th>0</th>\n",
       "      <td>{'countvectorizer__max_df': 0.9, 'countvectori...</td>\n",
       "      <td>0.818951</td>\n",
       "    </tr>\n",
       "    <tr>\n",
       "      <th>1</th>\n",
       "      <td>{'countvectorizer__max_df': 0.9, 'countvectori...</td>\n",
       "      <td>0.830009</td>\n",
       "    </tr>\n",
       "    <tr>\n",
       "      <th>3</th>\n",
       "      <td>{'countvectorizer__max_df': 0.9, 'countvectori...</td>\n",
       "      <td>0.831201</td>\n",
       "    </tr>\n",
       "  </tbody>\n",
       "</table>\n",
       "</div>"
      ],
      "text/plain": [
       "                                              params  mean_test_score\n",
       "5  {'countvectorizer__max_df': 1, 'countvectorize...         0.633782\n",
       "4  {'countvectorizer__max_df': 1, 'countvectorize...         0.634107\n",
       "7  {'countvectorizer__max_df': 1, 'countvectorize...         0.636818\n",
       "6  {'countvectorizer__max_df': 1, 'countvectorize...         0.637360\n",
       "2  {'countvectorizer__max_df': 0.9, 'countvectori...         0.817216\n",
       "0  {'countvectorizer__max_df': 0.9, 'countvectori...         0.818951\n",
       "1  {'countvectorizer__max_df': 0.9, 'countvectori...         0.830009\n",
       "3  {'countvectorizer__max_df': 0.9, 'countvectori...         0.831201"
      ]
     },
     "execution_count": 15,
     "metadata": {},
     "output_type": "execute_result"
    }
   ],
   "source": [
    "#Reviewing the results & turn into a dataframe\n",
    "gs.cv_results_\n",
    "\n",
    "pd.DataFrame(gs.cv_results_).loc[:, ['params', 'mean_test_score']].sort_values(by='mean_test_score')"
   ]
  },
  {
   "cell_type": "code",
   "execution_count": 18,
   "metadata": {},
   "outputs": [
    {
     "data": {
      "text/plain": [
       "{'countvectorizer__max_df': 0.9,\n",
       " 'countvectorizer__min_df': 0,\n",
       " 'countvectorizer__ngram_range': (1, 3),\n",
       " 'multinomialnb__alpha': 2}"
      ]
     },
     "execution_count": 18,
     "metadata": {},
     "output_type": "execute_result"
    }
   ],
   "source": [
    "#Curious to see what the best params are\n",
    "gs.best_params_"
   ]
  },
  {
   "cell_type": "code",
   "execution_count": 19,
   "metadata": {},
   "outputs": [
    {
     "data": {
      "text/plain": [
       "0.8204878048780487"
      ]
     },
     "execution_count": 19,
     "metadata": {},
     "output_type": "execute_result"
    }
   ],
   "source": [
    "#Getting the testing score\n",
    "gs.score(X_test, y_test)"
   ]
  },
  {
   "cell_type": "code",
   "execution_count": 20,
   "metadata": {},
   "outputs": [
    {
     "data": {
      "image/png": "[encoded data removed]",
      "text/plain": [
       "<Figure size 432x288 with 2 Axes>"
      ]
     },
     "metadata": {
      "needs_background": "light"
     },
     "output_type": "display_data"
    }
   ],
   "source": [
    "#Ask_transgender = 1, rainbow = 0\n",
    "ConfusionMatrixDisplay.from_estimator(gs, X_test, y_test, cmap='Blues');"
   ]
  },
  {
   "cell_type": "code",
   "execution_count": 21,
   "metadata": {},
   "outputs": [
    {
     "data": {
      "image/png": "[encoded data removed]",
      "text/plain": [
       "<Figure size 432x288 with 1 Axes>"
      ]
     },
     "metadata": {
      "needs_background": "light"
     },
     "output_type": "display_data"
    }
   ],
   "source": [
    "RocCurveDisplay.from_estimator(gs, X_test, y_test);"
   ]
  },
  {
   "cell_type": "markdown",
   "metadata": {},
   "source": [
    "**Observation:**\n",
    "For using two subreddits that are very similiar and with the data I pulled, I believe this is a great model. The alpha range of 2 helped with lap smoothing the model."
   ]
  },
  {
   "cell_type": "markdown",
   "metadata": {},
   "source": [
    "# Tfidf with Simple LogisticRegression"
   ]
  },
  {
   "cell_type": "code",
   "execution_count": 29,
   "metadata": {},
   "outputs": [
    {
     "data": {
      "text/plain": [
       "GridSearchCV(estimator=Pipeline(steps=[('tfidfvectorizer',\n",
       "                                        TfidfVectorizer(stop_words='english')),\n",
       "                                       ('logisticregression',\n",
       "                                        LogisticRegression())]),\n",
       "             n_jobs=-1,\n",
       "             param_grid={'tfidfvectorizer__max_features': [10000],\n",
       "                         'tfidfvectorizer__ngram_range': [(1, 2), (1, 3)],\n",
       "                         'tfidfvectorizer__stop_words': ['english']})"
      ]
     },
     "execution_count": 29,
     "metadata": {},
     "output_type": "execute_result"
    }
   ],
   "source": [
    "#Instantiate TfidfVectorizer & Logisticression\n",
    "tfidf_vect = TfidfVectorizer(stop_words='english')\n",
    "logreg = LogisticRegression()\n",
    "\n",
    "#Using a pipeline to expedite the model with params\n",
    "pipe10 = make_pipeline(\n",
    "tfidf_vect,\n",
    "logreg\n",
    ")\n",
    "\n",
    "#Choice of params\n",
    "params10 = {\n",
    "\"tfidfvectorizer__stop_words\": ['english'],\n",
    "\"tfidfvectorizer__max_features\": [10_000],\n",
    "\"tfidfvectorizer__ngram_range\": [(1,2),(1,3)],  \n",
    "}\n",
    "\n",
    "#Decided to do a gridsearch because I want to find the best model possible\n",
    "gs10 = GridSearchCV(pipe10, params10, n_jobs=-1)\n",
    "\n",
    "#Fitting the model\n",
    "gs10.fit(X_train, y_train)"
   ]
  },
  {
   "cell_type": "code",
   "execution_count": 30,
   "metadata": {},
   "outputs": [
    {
     "data": {
      "text/html": [
       "<div>\n",
       "<style scoped>\n",
       "    .dataframe tbody tr th:only-of-type {\n",
       "        vertical-align: middle;\n",
       "    }\n",
       "\n",
       "    .dataframe tbody tr th {\n",
       "        vertical-align: top;\n",
       "    }\n",
       "\n",
       "    .dataframe thead th {\n",
       "        text-align: right;\n",
       "    }\n",
       "</style>\n",
       "<table border=\"1\" class=\"dataframe\">\n",
       "  <thead>\n",
       "    <tr style=\"text-align: right;\">\n",
       "      <th></th>\n",
       "      <th>params</th>\n",
       "      <th>mean_test_score</th>\n",
       "    </tr>\n",
       "  </thead>\n",
       "  <tbody>\n",
       "    <tr>\n",
       "      <th>1</th>\n",
       "      <td>{'tfidfvectorizer__max_features': 10000, 'tfid...</td>\n",
       "      <td>0.829250</td>\n",
       "    </tr>\n",
       "    <tr>\n",
       "      <th>0</th>\n",
       "      <td>{'tfidfvectorizer__max_features': 10000, 'tfid...</td>\n",
       "      <td>0.830009</td>\n",
       "    </tr>\n",
       "  </tbody>\n",
       "</table>\n",
       "</div>"
      ],
      "text/plain": [
       "                                              params  mean_test_score\n",
       "1  {'tfidfvectorizer__max_features': 10000, 'tfid...         0.829250\n",
       "0  {'tfidfvectorizer__max_features': 10000, 'tfid...         0.830009"
      ]
     },
     "execution_count": 30,
     "metadata": {},
     "output_type": "execute_result"
    }
   ],
   "source": [
    "gs10.cv_results_\n",
    "\n",
    "pd.DataFrame(gs10.cv_results_).loc[:, ['params', 'mean_test_score']].sort_values(by='mean_test_score')"
   ]
  },
  {
   "cell_type": "code",
   "execution_count": 31,
   "metadata": {},
   "outputs": [
    {
     "data": {
      "text/plain": [
       "0.8201626016260163"
      ]
     },
     "execution_count": 31,
     "metadata": {},
     "output_type": "execute_result"
    }
   ],
   "source": [
    "gs10.score(X_test, y_test)"
   ]
  },
  {
   "cell_type": "code",
   "execution_count": 32,
   "metadata": {},
   "outputs": [
    {
     "data": {
      "image/png": "[encoded data removed]",
      "text/plain": [
       "<Figure size 432x288 with 2 Axes>"
      ]
     },
     "metadata": {
      "needs_background": "light"
     },
     "output_type": "display_data"
    }
   ],
   "source": [
    "#Ask_transgender = 1, rainbow = 0\n",
    "ConfusionMatrixDisplay.from_estimator(gs10, X_test, y_test, cmap='Reds');"
   ]
  },
  {
   "cell_type": "code",
   "execution_count": 33,
   "metadata": {},
   "outputs": [
    {
     "data": {
      "image/png": "[encoded data removed]",
      "text/plain": [
       "<Figure size 432x288 with 1 Axes>"
      ]
     },
     "metadata": {
      "needs_background": "light"
     },
     "output_type": "display_data"
    }
   ],
   "source": [
    "RocCurveDisplay.from_estimator(gs10, X_test, y_test);"
   ]
  },
  {
   "cell_type": "markdown",
   "metadata": {},
   "source": [
    "**Observation:**\n",
    "This model which is different only slightly from the countvectorizer with MNB. Since it includes Tfidf and simple Logistic Regression as you can see above there is no hyperparameter for the model. Yet, the area under of the curve is still 0.90 and was able to get 82% accuracy in comparison."
   ]
  },
  {
   "cell_type": "markdown",
   "metadata": {},
   "source": [
    "# Countvectorizer with Simple Logistic Regression"
   ]
  },
  {
   "cell_type": "code",
   "execution_count": 22,
   "metadata": {},
   "outputs": [
    {
     "data": {
      "text/plain": [
       "GridSearchCV(estimator=Pipeline(steps=[('countvectorizer',\n",
       "                                        CountVectorizer(stop_words='english')),\n",
       "                                       ('logisticregression',\n",
       "                                        LogisticRegression())]),\n",
       "             n_jobs=-1,\n",
       "             param_grid={'countvectorizer__max_df': [0.9, 1],\n",
       "                         'countvectorizer__min_df': [0],\n",
       "                         'countvectorizer__ngram_range': [(1, 2), (1, 3)]})"
      ]
     },
     "execution_count": 22,
     "metadata": {},
     "output_type": "execute_result"
    }
   ],
   "source": [
    "#Instantiate CountVectorizer & Logisticression\n",
    "cvect = CountVectorizer(stop_words='english')\n",
    "logreg = LogisticRegression()\n",
    "\n",
    "#Using a pipeline to expedite the model with params\n",
    "pipe9 = make_pipeline(\n",
    "cvect,\n",
    "logreg\n",
    ")\n",
    "\n",
    "#Choice of params\n",
    "params9 = {\n",
    "    'countvectorizer__max_df':[0.9, 1],\n",
    "    'countvectorizer__min_df':[0],\n",
    "    'countvectorizer__ngram_range':[(1,2),(1,3)],\n",
    "    \n",
    "}\n",
    "\n",
    "#Decided to do a gridsearch because I want to find the best model possible\n",
    "gs9 = GridSearchCV(pipe9, params9, n_jobs=-1)\n",
    "\n",
    "#Fitting the model\n",
    "gs9.fit(X_train, y_train)"
   ]
  },
  {
   "cell_type": "code",
   "execution_count": 23,
   "metadata": {},
   "outputs": [
    {
     "data": {
      "text/html": [
       "<div>\n",
       "<style scoped>\n",
       "    .dataframe tbody tr th:only-of-type {\n",
       "        vertical-align: middle;\n",
       "    }\n",
       "\n",
       "    .dataframe tbody tr th {\n",
       "        vertical-align: top;\n",
       "    }\n",
       "\n",
       "    .dataframe thead th {\n",
       "        text-align: right;\n",
       "    }\n",
       "</style>\n",
       "<table border=\"1\" class=\"dataframe\">\n",
       "  <thead>\n",
       "    <tr style=\"text-align: right;\">\n",
       "      <th></th>\n",
       "      <th>params</th>\n",
       "      <th>mean_test_score</th>\n",
       "    </tr>\n",
       "  </thead>\n",
       "  <tbody>\n",
       "    <tr>\n",
       "      <th>3</th>\n",
       "      <td>{'countvectorizer__max_df': 1, 'countvectorize...</td>\n",
       "      <td>0.601042</td>\n",
       "    </tr>\n",
       "    <tr>\n",
       "      <th>2</th>\n",
       "      <td>{'countvectorizer__max_df': 1, 'countvectorize...</td>\n",
       "      <td>0.613725</td>\n",
       "    </tr>\n",
       "    <tr>\n",
       "      <th>1</th>\n",
       "      <td>{'countvectorizer__max_df': 0.9, 'countvectori...</td>\n",
       "      <td>0.823504</td>\n",
       "    </tr>\n",
       "    <tr>\n",
       "      <th>0</th>\n",
       "      <td>{'countvectorizer__max_df': 0.9, 'countvectori...</td>\n",
       "      <td>0.825130</td>\n",
       "    </tr>\n",
       "  </tbody>\n",
       "</table>\n",
       "</div>"
      ],
      "text/plain": [
       "                                              params  mean_test_score\n",
       "3  {'countvectorizer__max_df': 1, 'countvectorize...         0.601042\n",
       "2  {'countvectorizer__max_df': 1, 'countvectorize...         0.613725\n",
       "1  {'countvectorizer__max_df': 0.9, 'countvectori...         0.823504\n",
       "0  {'countvectorizer__max_df': 0.9, 'countvectori...         0.825130"
      ]
     },
     "execution_count": 23,
     "metadata": {},
     "output_type": "execute_result"
    }
   ],
   "source": [
    "gs9.cv_results_\n",
    "\n",
    "pd.DataFrame(gs9.cv_results_).loc[:, ['params', 'mean_test_score']].sort_values(by='mean_test_score')"
   ]
  },
  {
   "cell_type": "code",
   "execution_count": 24,
   "metadata": {},
   "outputs": [
    {
     "data": {
      "text/plain": [
       "0.8191869918699187"
      ]
     },
     "execution_count": 24,
     "metadata": {},
     "output_type": "execute_result"
    }
   ],
   "source": [
    "gs9.score(X_test, y_test)"
   ]
  },
  {
   "cell_type": "code",
   "execution_count": 26,
   "metadata": {},
   "outputs": [
    {
     "data": {
      "image/png": "[encoded data removed]",
      "text/plain": [
       "<Figure size 432x288 with 2 Axes>"
      ]
     },
     "metadata": {
      "needs_background": "light"
     },
     "output_type": "display_data"
    }
   ],
   "source": [
    "#Ask_transgender = 1, rainbow = 0\n",
    "ConfusionMatrixDisplay.from_estimator(gs9, X_test, y_test, cmap='Greens');"
   ]
  },
  {
   "cell_type": "code",
   "execution_count": 28,
   "metadata": {},
   "outputs": [
    {
     "data": {
      "image/png": "[encoded data removed]",
      "text/plain": [
       "<Figure size 432x288 with 1 Axes>"
      ]
     },
     "metadata": {
      "needs_background": "light"
     },
     "output_type": "display_data"
    }
   ],
   "source": [
    "RocCurveDisplay.from_estimator(gs9, X_test, y_test);"
   ]
  },
  {
   "cell_type": "markdown",
   "metadata": {},
   "source": [
    "**Observation:**\n",
    "With this model above, I wanted to try the counvectorizer with simple Logistic Regression because there is no hyperparameter involved. Also noticing the best parameter was capping the countvectorization max at 90%. \n"
   ]
  },
  {
   "cell_type": "markdown",
   "metadata": {},
   "source": [
    "# MultinomialNB with Tfidf Vectorizer"
   ]
  },
  {
   "cell_type": "code",
   "execution_count": 34,
   "metadata": {},
   "outputs": [
    {
     "data": {
      "text/plain": [
       "GridSearchCV(estimator=Pipeline(steps=[('tfidfvectorizer',\n",
       "                                        TfidfVectorizer(max_features=1000,\n",
       "                                                        ngram_range=(1, 3),\n",
       "                                                        stop_words='english')),\n",
       "                                       ('multinomialnb', MultinomialNB())]),\n",
       "             n_jobs=-1,\n",
       "             param_grid={'multinomialnb__alpha': [2],\n",
       "                         'tfidfvectorizer__max_features': [10000],\n",
       "                         'tfidfvectorizer__ngram_range': [(1, 2), (1, 3)],\n",
       "                         'tfidfvectorizer__stop_words': ['english']})"
      ]
     },
     "execution_count": 34,
     "metadata": {},
     "output_type": "execute_result"
    }
   ],
   "source": [
    "#I am using the same split from above with different vectorizers\n",
    "nbayes = MultinomialNB()\n",
    "\n",
    "tfidf_vect = TfidfVectorizer(\n",
    "    stop_words='english',\n",
    "    max_features=1_000,\n",
    "    ngram_range=(1,3)\n",
    ")\n",
    "\n",
    "#Using a pipeline to expedite the model with params\n",
    "pipe2 = make_pipeline(\n",
    "tfidf_vect,\n",
    "nbayes\n",
    ")\n",
    "\n",
    "#Choice of params\n",
    "params2 = {\n",
    "\"tfidfvectorizer__stop_words\": ['english'],\n",
    "\"tfidfvectorizer__max_features\": [10_000],\n",
    "\"tfidfvectorizer__ngram_range\": [(1,2),(1,3)],\n",
    "\"multinomialnb__alpha\":[2]\n",
    "}\n",
    "#Decided to do a gridsearch because I want to find the best model possible\n",
    "gs2 = GridSearchCV(pipe2, params2, n_jobs=-1)\n",
    "\n",
    "#Fitting the model\n",
    "gs2.fit(X_train, y_train)"
   ]
  },
  {
   "cell_type": "code",
   "execution_count": 35,
   "metadata": {},
   "outputs": [
    {
     "data": {
      "text/html": [
       "<div>\n",
       "<style scoped>\n",
       "    .dataframe tbody tr th:only-of-type {\n",
       "        vertical-align: middle;\n",
       "    }\n",
       "\n",
       "    .dataframe tbody tr th {\n",
       "        vertical-align: top;\n",
       "    }\n",
       "\n",
       "    .dataframe thead th {\n",
       "        text-align: right;\n",
       "    }\n",
       "</style>\n",
       "<table border=\"1\" class=\"dataframe\">\n",
       "  <thead>\n",
       "    <tr style=\"text-align: right;\">\n",
       "      <th></th>\n",
       "      <th>params</th>\n",
       "      <th>mean_test_score</th>\n",
       "    </tr>\n",
       "  </thead>\n",
       "  <tbody>\n",
       "    <tr>\n",
       "      <th>1</th>\n",
       "      <td>{'multinomialnb__alpha': 2, 'tfidfvectorizer__...</td>\n",
       "      <td>0.823722</td>\n",
       "    </tr>\n",
       "    <tr>\n",
       "      <th>0</th>\n",
       "      <td>{'multinomialnb__alpha': 2, 'tfidfvectorizer__...</td>\n",
       "      <td>0.823939</td>\n",
       "    </tr>\n",
       "  </tbody>\n",
       "</table>\n",
       "</div>"
      ],
      "text/plain": [
       "                                              params  mean_test_score\n",
       "1  {'multinomialnb__alpha': 2, 'tfidfvectorizer__...         0.823722\n",
       "0  {'multinomialnb__alpha': 2, 'tfidfvectorizer__...         0.823939"
      ]
     },
     "execution_count": 35,
     "metadata": {},
     "output_type": "execute_result"
    }
   ],
   "source": [
    "gs2.cv_results_\n",
    "\n",
    "pd.DataFrame(gs2.cv_results_).loc[:,['params', 'mean_test_score']].sort_values(by='mean_test_score')"
   ]
  },
  {
   "cell_type": "code",
   "execution_count": 36,
   "metadata": {},
   "outputs": [
    {
     "data": {
      "text/plain": [
       "0.8120325203252032"
      ]
     },
     "execution_count": 36,
     "metadata": {},
     "output_type": "execute_result"
    }
   ],
   "source": [
    "gs2.score(X_test, y_test)"
   ]
  },
  {
   "cell_type": "code",
   "execution_count": 37,
   "metadata": {},
   "outputs": [
    {
     "data": {
      "text/plain": [
       "{'multinomialnb__alpha': 2,\n",
       " 'tfidfvectorizer__max_features': 10000,\n",
       " 'tfidfvectorizer__ngram_range': (1, 2),\n",
       " 'tfidfvectorizer__stop_words': 'english'}"
      ]
     },
     "execution_count": 37,
     "metadata": {},
     "output_type": "execute_result"
    }
   ],
   "source": [
    "gs2.best_params_"
   ]
  },
  {
   "cell_type": "code",
   "execution_count": 39,
   "metadata": {},
   "outputs": [
    {
     "data": {
      "image/png": "[encoded data removed]",
      "text/plain": [
       "<Figure size 432x288 with 2 Axes>"
      ]
     },
     "metadata": {
      "needs_background": "light"
     },
     "output_type": "display_data"
    }
   ],
   "source": [
    "#Ask_transgender = 1, rainbow = 0\n",
    "ConfusionMatrixDisplay.from_estimator(gs2, X_test, y_test, cmap='Purples');"
   ]
  },
  {
   "cell_type": "code",
   "execution_count": 40,
   "metadata": {},
   "outputs": [
    {
     "data": {
      "image/png": "[encoded data removed]",
      "text/plain": [
       "<Figure size 432x288 with 1 Axes>"
      ]
     },
     "metadata": {
      "needs_background": "light"
     },
     "output_type": "display_data"
    }
   ],
   "source": [
    "#Ask_transgender = 1, rainbow = 0\n",
    "RocCurveDisplay.from_estimator(gs2, X_test, y_test);"
   ]
  },
  {
   "cell_type": "markdown",
   "metadata": {},
   "source": [
    "**Observations:**\n",
    "Within this model, I have noticed with the false negatives of the confusion display matrix are the lowest through out these models. "
   ]
  },
  {
   "cell_type": "markdown",
   "metadata": {},
   "source": [
    "# Tfidvectorizer Logistic Regression with Hyperparameter"
   ]
  },
  {
   "cell_type": "code",
   "execution_count": 41,
   "metadata": {},
   "outputs": [
    {
     "data": {
      "text/plain": [
       "GridSearchCV(estimator=Pipeline(steps=[('tfidfvectorizer', TfidfVectorizer()),\n",
       "                                       ('logisticregression',\n",
       "                                        LogisticRegression(max_iter=10000))]),\n",
       "             n_jobs=-1,\n",
       "             param_grid={'logisticregression__C': [10, 100],\n",
       "                         'tfidfvectorizer__max_features': [1000],\n",
       "                         'tfidfvectorizer__ngram_range': [(1, 1), (1, 2),\n",
       "                                                          (1, 3)],\n",
       "                         'tfidfvectorizer__stop_words': [None, 'english']})"
      ]
     },
     "execution_count": 41,
     "metadata": {},
     "output_type": "execute_result"
    }
   ],
   "source": [
    "#Using a pipeline to expedite the model with params\n",
    "pipe6 = make_pipeline(\n",
    "    TfidfVectorizer(),\n",
    "    LogisticRegression(max_iter=10_000)\n",
    ")\n",
    "\n",
    "#Choice of params\n",
    "params6 = {\n",
    "\"tfidfvectorizer__stop_words\": [None, 'english'],\n",
    "\"tfidfvectorizer__max_features\": [1_000],\n",
    "\"tfidfvectorizer__ngram_range\": [(1,1), (1,2), (1,3)],\n",
    "\"logisticregression__C\": [10, 100] \n",
    "}\n",
    "#Decided to do a gridsearch because I want to find the best model possible\n",
    "gs6 = GridSearchCV(pipe6, params6, n_jobs=-1)\n",
    "\n",
    "#Fitting the model\n",
    "gs6.fit(X_train, y_train)"
   ]
  },
  {
   "cell_type": "code",
   "execution_count": 42,
   "metadata": {},
   "outputs": [
    {
     "data": {
      "text/html": [
       "<div>\n",
       "<style scoped>\n",
       "    .dataframe tbody tr th:only-of-type {\n",
       "        vertical-align: middle;\n",
       "    }\n",
       "\n",
       "    .dataframe tbody tr th {\n",
       "        vertical-align: top;\n",
       "    }\n",
       "\n",
       "    .dataframe thead th {\n",
       "        text-align: right;\n",
       "    }\n",
       "</style>\n",
       "<table border=\"1\" class=\"dataframe\">\n",
       "  <thead>\n",
       "    <tr style=\"text-align: right;\">\n",
       "      <th></th>\n",
       "      <th>params</th>\n",
       "      <th>mean_test_score</th>\n",
       "    </tr>\n",
       "  </thead>\n",
       "  <tbody>\n",
       "    <tr>\n",
       "      <th>10</th>\n",
       "      <td>{'logisticregression__C': 100, 'tfidfvectorize...</td>\n",
       "      <td>0.800088</td>\n",
       "    </tr>\n",
       "    <tr>\n",
       "      <th>11</th>\n",
       "      <td>{'logisticregression__C': 100, 'tfidfvectorize...</td>\n",
       "      <td>0.801388</td>\n",
       "    </tr>\n",
       "    <tr>\n",
       "      <th>9</th>\n",
       "      <td>{'logisticregression__C': 100, 'tfidfvectorize...</td>\n",
       "      <td>0.801604</td>\n",
       "    </tr>\n",
       "    <tr>\n",
       "      <th>8</th>\n",
       "      <td>{'logisticregression__C': 100, 'tfidfvectorize...</td>\n",
       "      <td>0.801931</td>\n",
       "    </tr>\n",
       "    <tr>\n",
       "      <th>7</th>\n",
       "      <td>{'logisticregression__C': 100, 'tfidfvectorize...</td>\n",
       "      <td>0.803013</td>\n",
       "    </tr>\n",
       "    <tr>\n",
       "      <th>2</th>\n",
       "      <td>{'logisticregression__C': 10, 'tfidfvectorizer...</td>\n",
       "      <td>0.809844</td>\n",
       "    </tr>\n",
       "    <tr>\n",
       "      <th>6</th>\n",
       "      <td>{'logisticregression__C': 100, 'tfidfvectorize...</td>\n",
       "      <td>0.810169</td>\n",
       "    </tr>\n",
       "    <tr>\n",
       "      <th>4</th>\n",
       "      <td>{'logisticregression__C': 10, 'tfidfvectorizer...</td>\n",
       "      <td>0.810170</td>\n",
       "    </tr>\n",
       "    <tr>\n",
       "      <th>3</th>\n",
       "      <td>{'logisticregression__C': 10, 'tfidfvectorizer...</td>\n",
       "      <td>0.811253</td>\n",
       "    </tr>\n",
       "    <tr>\n",
       "      <th>5</th>\n",
       "      <td>{'logisticregression__C': 10, 'tfidfvectorizer...</td>\n",
       "      <td>0.812229</td>\n",
       "    </tr>\n",
       "    <tr>\n",
       "      <th>1</th>\n",
       "      <td>{'logisticregression__C': 10, 'tfidfvectorizer...</td>\n",
       "      <td>0.813204</td>\n",
       "    </tr>\n",
       "    <tr>\n",
       "      <th>0</th>\n",
       "      <td>{'logisticregression__C': 10, 'tfidfvectorizer...</td>\n",
       "      <td>0.821119</td>\n",
       "    </tr>\n",
       "  </tbody>\n",
       "</table>\n",
       "</div>"
      ],
      "text/plain": [
       "                                               params  mean_test_score\n",
       "10  {'logisticregression__C': 100, 'tfidfvectorize...         0.800088\n",
       "11  {'logisticregression__C': 100, 'tfidfvectorize...         0.801388\n",
       "9   {'logisticregression__C': 100, 'tfidfvectorize...         0.801604\n",
       "8   {'logisticregression__C': 100, 'tfidfvectorize...         0.801931\n",
       "7   {'logisticregression__C': 100, 'tfidfvectorize...         0.803013\n",
       "2   {'logisticregression__C': 10, 'tfidfvectorizer...         0.809844\n",
       "6   {'logisticregression__C': 100, 'tfidfvectorize...         0.810169\n",
       "4   {'logisticregression__C': 10, 'tfidfvectorizer...         0.810170\n",
       "3   {'logisticregression__C': 10, 'tfidfvectorizer...         0.811253\n",
       "5   {'logisticregression__C': 10, 'tfidfvectorizer...         0.812229\n",
       "1   {'logisticregression__C': 10, 'tfidfvectorizer...         0.813204\n",
       "0   {'logisticregression__C': 10, 'tfidfvectorizer...         0.821119"
      ]
     },
     "execution_count": 42,
     "metadata": {},
     "output_type": "execute_result"
    }
   ],
   "source": [
    "gs6.cv_results_\n",
    "\n",
    "pd.DataFrame(gs6.cv_results_).loc[:, ['params', 'mean_test_score']].sort_values(by='mean_test_score')"
   ]
  },
  {
   "cell_type": "code",
   "execution_count": 43,
   "metadata": {},
   "outputs": [
    {
     "data": {
      "text/plain": [
       "0.8136585365853658"
      ]
     },
     "execution_count": 43,
     "metadata": {},
     "output_type": "execute_result"
    }
   ],
   "source": [
    "#Testing Accuracy Score\n",
    "gs6.score(X_test, y_test)"
   ]
  },
  {
   "cell_type": "code",
   "execution_count": 44,
   "metadata": {},
   "outputs": [
    {
     "data": {
      "text/plain": [
       "{'logisticregression__C': 10,\n",
       " 'tfidfvectorizer__max_features': 1000,\n",
       " 'tfidfvectorizer__ngram_range': (1, 1),\n",
       " 'tfidfvectorizer__stop_words': None}"
      ]
     },
     "execution_count": 44,
     "metadata": {},
     "output_type": "execute_result"
    }
   ],
   "source": [
    "gs6.best_params_"
   ]
  },
  {
   "cell_type": "code",
   "execution_count": 46,
   "metadata": {},
   "outputs": [
    {
     "data": {
      "image/png": "[encoded data removed]",
      "text/plain": [
       "<Figure size 432x288 with 2 Axes>"
      ]
     },
     "metadata": {
      "needs_background": "light"
     },
     "output_type": "display_data"
    }
   ],
   "source": [
    "#Ask_transgender = 1, rainbow = 0\n",
    "ConfusionMatrixDisplay.from_estimator(gs6, X_test, y_test, cmap='Oranges');"
   ]
  },
  {
   "cell_type": "code",
   "execution_count": 47,
   "metadata": {},
   "outputs": [
    {
     "data": {
      "image/png": "[encoded data removed]",
      "text/plain": [
       "<Figure size 432x288 with 1 Axes>"
      ]
     },
     "metadata": {
      "needs_background": "light"
     },
     "output_type": "display_data"
    }
   ],
   "source": [
    "RocCurveDisplay.from_estimator(gs6, X_test, y_test);"
   ]
  },
  {
   "cell_type": "markdown",
   "metadata": {},
   "source": [
    "**Observations**\n",
    "Within this model, I have noticed the hyperparameter of the Logistic Regression that played a good role in have the accuracy stay within the 80's from all the trials it the model ran through. "
   ]
  },
  {
   "cell_type": "markdown",
   "metadata": {},
   "source": [
    "# Tfidfvectorizer with Bagging Classifier"
   ]
  },
  {
   "cell_type": "code",
   "execution_count": 2,
   "metadata": {},
   "outputs": [
    {
     "ename": "NameError",
     "evalue": "name 'make_pipeline' is not defined",
     "output_type": "error",
     "traceback": [
      "\u001b[0;31m---------------------------------------------------------------------------\u001b[0m",
      "\u001b[0;31mNameError\u001b[0m                                 Traceback (most recent call last)",
      "\u001b[0;32m/var/folders/py/m8wqlzy50t9brp7g9g1n0xbr0000gn/T/ipykernel_31773/3559760305.py\u001b[0m in \u001b[0;36m<module>\u001b[0;34m\u001b[0m\n\u001b[1;32m      1\u001b[0m \u001b[0;31m#Using a pipeline to expedite the model with params\u001b[0m\u001b[0;34m\u001b[0m\u001b[0;34m\u001b[0m\u001b[0m\n\u001b[0;32m----> 2\u001b[0;31m pipe5 = make_pipeline(\n\u001b[0m\u001b[1;32m      3\u001b[0m \u001b[0mTfidfVectorizer\u001b[0m\u001b[0;34m(\u001b[0m\u001b[0;34m)\u001b[0m\u001b[0;34m,\u001b[0m\u001b[0;34m\u001b[0m\u001b[0;34m\u001b[0m\u001b[0m\n\u001b[1;32m      4\u001b[0m \u001b[0mBaggingClassifier\u001b[0m\u001b[0;34m(\u001b[0m\u001b[0;34m)\u001b[0m\u001b[0;34m\u001b[0m\u001b[0;34m\u001b[0m\u001b[0m\n\u001b[1;32m      5\u001b[0m )\n",
      "\u001b[0;31mNameError\u001b[0m: name 'make_pipeline' is not defined"
     ]
    }
   ],
   "source": [
    "#Using a pipeline to expedite the model with params\n",
    "pipe5 = make_pipeline(\n",
    "TfidfVectorizer(),\n",
    "BaggingClassifier()\n",
    ")\n",
    "\n",
    "#Choice of params\n",
    "params5 = {\n",
    "\"tfidfvectorizer__stop_words\": [None, 'english'],\n",
    "\"tfidfvectorizer__max_features\": [10_000],\n",
    "\"tfidfvectorizer__ngram_range\": [(1,1), (1,2), (2,2), (1,3)],\n",
    "}\n",
    "\n",
    "#Decided to do a gridsearch because I want to find the best model possible\n",
    "gs5_bag = GridSearchCV(pipe5, params5, n_jobs=-1)\n",
    "\n",
    "#Fitting the model\n",
    "gs5_bag.fit(X_train, y_train)"
   ]
  },
  {
   "cell_type": "code",
   "execution_count": 50,
   "metadata": {},
   "outputs": [
    {
     "data": {
      "text/html": [
       "<div>\n",
       "<style scoped>\n",
       "    .dataframe tbody tr th:only-of-type {\n",
       "        vertical-align: middle;\n",
       "    }\n",
       "\n",
       "    .dataframe tbody tr th {\n",
       "        vertical-align: top;\n",
       "    }\n",
       "\n",
       "    .dataframe thead th {\n",
       "        text-align: right;\n",
       "    }\n",
       "</style>\n",
       "<table border=\"1\" class=\"dataframe\">\n",
       "  <thead>\n",
       "    <tr style=\"text-align: right;\">\n",
       "      <th></th>\n",
       "      <th>params</th>\n",
       "      <th>mean_test_score</th>\n",
       "    </tr>\n",
       "  </thead>\n",
       "  <tbody>\n",
       "    <tr>\n",
       "      <th>5</th>\n",
       "      <td>{'tfidfvectorizer__max_features': 10000, 'tfid...</td>\n",
       "      <td>0.625326</td>\n",
       "    </tr>\n",
       "    <tr>\n",
       "      <th>4</th>\n",
       "      <td>{'tfidfvectorizer__max_features': 10000, 'tfid...</td>\n",
       "      <td>0.717801</td>\n",
       "    </tr>\n",
       "    <tr>\n",
       "      <th>6</th>\n",
       "      <td>{'tfidfvectorizer__max_features': 10000, 'tfid...</td>\n",
       "      <td>0.783066</td>\n",
       "    </tr>\n",
       "    <tr>\n",
       "      <th>2</th>\n",
       "      <td>{'tfidfvectorizer__max_features': 10000, 'tfid...</td>\n",
       "      <td>0.784258</td>\n",
       "    </tr>\n",
       "    <tr>\n",
       "      <th>0</th>\n",
       "      <td>{'tfidfvectorizer__max_features': 10000, 'tfid...</td>\n",
       "      <td>0.785776</td>\n",
       "    </tr>\n",
       "    <tr>\n",
       "      <th>1</th>\n",
       "      <td>{'tfidfvectorizer__max_features': 10000, 'tfid...</td>\n",
       "      <td>0.794123</td>\n",
       "    </tr>\n",
       "    <tr>\n",
       "      <th>3</th>\n",
       "      <td>{'tfidfvectorizer__max_features': 10000, 'tfid...</td>\n",
       "      <td>0.796942</td>\n",
       "    </tr>\n",
       "    <tr>\n",
       "      <th>7</th>\n",
       "      <td>{'tfidfvectorizer__max_features': 10000, 'tfid...</td>\n",
       "      <td>0.799761</td>\n",
       "    </tr>\n",
       "  </tbody>\n",
       "</table>\n",
       "</div>"
      ],
      "text/plain": [
       "                                              params  mean_test_score\n",
       "5  {'tfidfvectorizer__max_features': 10000, 'tfid...         0.625326\n",
       "4  {'tfidfvectorizer__max_features': 10000, 'tfid...         0.717801\n",
       "6  {'tfidfvectorizer__max_features': 10000, 'tfid...         0.783066\n",
       "2  {'tfidfvectorizer__max_features': 10000, 'tfid...         0.784258\n",
       "0  {'tfidfvectorizer__max_features': 10000, 'tfid...         0.785776\n",
       "1  {'tfidfvectorizer__max_features': 10000, 'tfid...         0.794123\n",
       "3  {'tfidfvectorizer__max_features': 10000, 'tfid...         0.796942\n",
       "7  {'tfidfvectorizer__max_features': 10000, 'tfid...         0.799761"
      ]
     },
     "execution_count": 50,
     "metadata": {},
     "output_type": "execute_result"
    }
   ],
   "source": [
    "gs5_bag.cv_results_\n",
    "\n",
    "pd.DataFrame(gs5_bag.cv_results_).loc[:, ['params', 'mean_test_score']].sort_values(by='mean_test_score')"
   ]
  },
  {
   "cell_type": "code",
   "execution_count": 51,
   "metadata": {},
   "outputs": [
    {
     "data": {
      "text/plain": [
       "0.7990243902439025"
      ]
     },
     "execution_count": 51,
     "metadata": {},
     "output_type": "execute_result"
    }
   ],
   "source": [
    "gs5_bag.score(X_test, y_test)"
   ]
  },
  {
   "cell_type": "code",
   "execution_count": 52,
   "metadata": {},
   "outputs": [
    {
     "data": {
      "text/plain": [
       "{'tfidfvectorizer__max_features': 10000,\n",
       " 'tfidfvectorizer__ngram_range': (1, 3),\n",
       " 'tfidfvectorizer__stop_words': 'english'}"
      ]
     },
     "execution_count": 52,
     "metadata": {},
     "output_type": "execute_result"
    }
   ],
   "source": [
    "gs5_bag.best_params_"
   ]
  },
  {
   "cell_type": "code",
   "execution_count": 1,
   "metadata": {},
   "outputs": [
    {
     "ename": "NameError",
     "evalue": "name 'ConfusionMatrixDisplay' is not defined",
     "output_type": "error",
     "traceback": [
      "\u001b[0;31m---------------------------------------------------------------------------\u001b[0m",
      "\u001b[0;31mNameError\u001b[0m                                 Traceback (most recent call last)",
      "\u001b[0;32m/var/folders/py/m8wqlzy50t9brp7g9g1n0xbr0000gn/T/ipykernel_31773/3245456742.py\u001b[0m in \u001b[0;36m<module>\u001b[0;34m\u001b[0m\n\u001b[1;32m      1\u001b[0m \u001b[0;31m#Ask_transgender = 1, rainbow = 0\u001b[0m\u001b[0;34m\u001b[0m\u001b[0;34m\u001b[0m\u001b[0m\n\u001b[0;32m----> 2\u001b[0;31m \u001b[0mConfusionMatrixDisplay\u001b[0m\u001b[0;34m.\u001b[0m\u001b[0mfrom_estimator\u001b[0m\u001b[0;34m(\u001b[0m\u001b[0mgs5_bag\u001b[0m\u001b[0;34m,\u001b[0m \u001b[0mX_test\u001b[0m\u001b[0;34m,\u001b[0m \u001b[0my_test\u001b[0m\u001b[0;34m,\u001b[0m \u001b[0mcmap\u001b[0m\u001b[0;34m=\u001b[0m\u001b[0;34m'Greys'\u001b[0m\u001b[0;34m,\u001b[0m \u001b[0mdisplay_labels\u001b[0m\u001b[0;34m=\u001b[0m\u001b[0;34m[\u001b[0m\u001b[0;34m'r/ainbow'\u001b[0m\u001b[0;34m,\u001b[0m \u001b[0;34m'asktransgender'\u001b[0m\u001b[0;34m]\u001b[0m\u001b[0;34m)\u001b[0m\u001b[0;34m;\u001b[0m\u001b[0;34m\u001b[0m\u001b[0;34m\u001b[0m\u001b[0m\n\u001b[0m",
      "\u001b[0;31mNameError\u001b[0m: name 'ConfusionMatrixDisplay' is not defined"
     ]
    }
   ],
   "source": [
    "#Ask_transgender = 1, rainbow = 0\n",
    "ConfusionMatrixDisplay.from_estimator(gs5_bag, X_test, y_test, cmap='Greys', display_labels=['r/ainbow', 'asktransgender']);"
   ]
  },
  {
   "cell_type": "code",
   "execution_count": 58,
   "metadata": {},
   "outputs": [
    {
     "data": {
      "image/png": "[encoded data removed]",
      "text/plain": [
       "<Figure size 432x288 with 1 Axes>"
      ]
     },
     "metadata": {
      "needs_background": "light"
     },
     "output_type": "display_data"
    }
   ],
   "source": [
    "RocCurveDisplay.from_estimator(gs5_bag, X_test, y_test);"
   ]
  },
  {
   "cell_type": "markdown",
   "metadata": {},
   "source": [
    "**Observations**\n",
    "This model is one of the poor ones I consider because out of my top models, this is the lowest scoring. I did not include my low scoring models. My lowest model out of the 10 I have created was 52.4% which is significantly close to my null model. \n",
    "\n",
    "From creating all these models, I noticed that the scores are close to another regardless if I tried using the other feature of the 'text' from the subreddits. "
   ]
  },
  {
   "cell_type": "markdown",
   "metadata": {},
   "source": [
    "# Lemmatizer with Logistic Regression"
   ]
  },
  {
   "cell_type": "code",
   "execution_count": 377,
   "metadata": {},
   "outputs": [],
   "source": [
    "from nltk import word_tokenize\n",
    "from nltk.stem import WordNetLemmatizer"
   ]
  },
  {
   "cell_type": "code",
   "execution_count": 379,
   "metadata": {},
   "outputs": [],
   "source": [
    "class LemmaTokenizer():\n",
    "    def __init__(self):\n",
    "        self.wnl = WordNetLemmatizer()\n",
    "    def __call__(self, doc):\n",
    "        return [  self.wnl.lemmatize(t) for t in word_tokenize(doc)]"
   ]
  },
  {
   "cell_type": "code",
   "execution_count": 380,
   "metadata": {},
   "outputs": [],
   "source": [
    "lemmatizer = WordNetLemmatizer()\n",
    "vect_lemmas = CountVectorizer(max_features=500, tokenizer=LemmaTokenizer())\n",
    "\n",
    "X_train_lemmas = vect_lemmas.fit_transform(X_train)\n",
    "X_test_lemmas = vect_lemmas.transform(X_test)"
   ]
  },
  {
   "cell_type": "code",
   "execution_count": 383,
   "metadata": {},
   "outputs": [
    {
     "data": {
      "text/plain": [
       "0.816910569105691"
      ]
     },
     "execution_count": 383,
     "metadata": {},
     "output_type": "execute_result"
    }
   ],
   "source": [
    "lr = LogisticRegression(max_iter=10_000, random_state=11)\n",
    "lr.fit(X_train_lemmas, y_train)\n",
    "lr.score(X_test_lemmas, y_test)"
   ]
  },
  {
   "cell_type": "markdown",
   "metadata": {},
   "source": [
    "**Observation:**\n",
    "Without using gridsearch to maximize my possibilities of higher scores in accuracy, it is good to know with my data even with the Lemmatizer that my models score is \n",
    "82%. This is still good news as it beat my null model."
   ]
  },
  {
   "cell_type": "code",
   "execution_count": null,
   "metadata": {},
   "outputs": [],
   "source": [
    "#    display_labels=['benign', 'malignant']\n"
   ]
  },
  {
   "cell_type": "markdown",
   "metadata": {},
   "source": [
    "# Created Vocabulary"
   ]
  },
  {
   "cell_type": "code",
   "execution_count": 382,
   "metadata": {},
   "outputs": [
    {
     "data": {
      "text/plain": [
       "array(['10', '17', '18', '19', '1st', '20', '2020', '2021', '2022', '21',\n",
       "       '22', '24', '25', '27', '30', 'able', 'accept', 'acceptance',\n",
       "       'accepting', 'accidentally', 'ace', 'act', 'activist', 'actual',\n",
       "       'actually', 'add', 'administration', 'advice', 'afab', 'affect',\n",
       "       'affirming', 'afraid', 'agab', 'age', 'ago', 'aids', 'ainbow',\n",
       "       'allowed', 'ally', 'amab', 'amazing', 'amazon', 'america', 'amp',\n",
       "       'answer', 'answers', 'anti', 'anti lgbtq', 'anti trans', 'anxiety',\n",
       "       'anybody', 'anymore', 'app', 'apparently', 'appreciate', 'area',\n",
       "       'aren', 'arguments', 'art', 'article', 'artist', 'artists',\n",
       "       'asexual', 'ask', 'asked', 'asking', 'assigned', 'attack',\n",
       "       'attention', 'attracted', 'attraction', 'awareness', 'away',\n",
       "       'baby', 'bad', 'ban', 'band', 'based', 'basic', 'beautiful',\n",
       "       'believe', 'best', 'best friend', 'best way', 'better', 'bi',\n",
       "       'biden', 'big', 'binary', 'binary people', 'binder', 'biological',\n",
       "       'birth', 'birthday', 'bisexual', 'bisexuality', 'bit', 'black',\n",
       "       'blockers', 'blood', 'blue', 'body', 'boobs', 'book', 'books',\n",
       "       'born', 'boy', 'boyfriend', 'boys', 'bra', 'break', 'breast',\n",
       "       'breast growth', 'breasts', 'bring', 'brother', 'building',\n",
       "       'bunch', 'business', 'buy', 'ca', 'cake', 'california', 'called',\n",
       "       'calling', 'came', 'camp', 'campaign', 'canada', 'care', 'case',\n",
       "       'cat', 'cause', 'celebrate', 'center', 'certain', 'change',\n",
       "       'changed', 'changes', 'changing', 'character', 'characters',\n",
       "       'chat', 'check', 'chest', 'child', 'childhood', 'children',\n",
       "       'china', 'choice', 'choose', 'christian', 'christmas', 'church',\n",
       "       'cis', 'cis man', 'cis men', 'cis people', 'city', 'civil',\n",
       "       'close', 'closet', 'closeted', 'clothes', 'clothing', 'college',\n",
       "       'color', 'com', 'come', 'comes', 'comfortable', 'coming',\n",
       "       'comment', 'comments', 'common', 'communities', 'community',\n",
       "       'companies', 'company', 'completely', 'concerns', 'confused',\n",
       "       'confusion', 'conservative', 'considered', 'content', 'conversion',\n",
       "       'conversion therapy', 'cool', 'cope', 'correct', 'cost', 'couldn',\n",
       "       'countries', 'country', 'couple', 'couples', 'course', 'court',\n",
       "       'cover', 'covid', 'created', 'crisis', 'cross', 'crush', 'curious',\n",
       "       'current', 'cute', 'dad', 'dance', 'dark', 'date', 'dating',\n",
       "       'dating trans', 'day', 'days', 'deadname', 'deal', 'dealing',\n",
       "       'death', 'decide', 'decided', 'decision', 'denial', 'depression',\n",
       "       'design', 'did', 'didn', 'difference', 'differences', 'different',\n",
       "       'discord', 'discord server', 'discrimination', 'disney',\n",
       "       'disorder', 'diversity', 'dm', 'doctor', 'doctors', 'does',\n",
       "       'does feel', 'does hrt', 'does know', 'does mean', 'doesn',\n",
       "       'doesnt', 'doing', 'don', 'don know', 'don want', 'dont',\n",
       "       'dont know', 'dont want', 'dose', 'doubt', 'doubts', 'dr', 'drag',\n",
       "       'dress', 'drive', 'dysphoria', 'dysphoric', 'early', 'education',\n",
       "       'effect', 'effects', 'egg', 'electrolysis', 'enby', 'end', 'enjoy',\n",
       "       'envy', 'ep', 'episode', 'equality', 'especially', 'estradiol',\n",
       "       'estrogen', 'euphoria', 'event', 'excited', 'exist', 'expect',\n",
       "       'experience', 'experienced', 'experiences', 'explain', 'explore',\n",
       "       'face', 'facial', 'facial hair', 'fake', 'family', 'fan', 'fans',\n",
       "       'far', 'fat', 'father', 'favorite', 'fear', 'federal', 'feedback',\n",
       "       'feel', 'feel like', 'feeling', 'feelings', 'feels', 'fellow',\n",
       "       'felt', 'fem', 'female', 'feminine', 'femme', 'fetish', 'ffs',\n",
       "       'fight', 'figure', 'film', 'finally', 'finding', 'fit', 'flag',\n",
       "       'flags', 'folk', 'folks', 'follow', 'form', 'free', 'friend',\n",
       "       'friendly', 'friends', 'ftm', 'fuck', 'fully', 'fun', 'funny',\n",
       "       'future', 'game', 'games', 'gay', 'gay man', 'gay men',\n",
       "       'gay people', 'gays', 'gender', 'gender affirming',\n",
       "       'gender dysphoria', 'gender euphoria', 'gender identity',\n",
       "       'gender neutral', 'genderfluid', 'genders', 'general', 'genital',\n",
       "       'genitals', 'gets', 'getting', 'gf', 'gift', 'girl', 'girlfriend',\n",
       "       'girls', 'giving', 'god', 'goes', 'going', 'gonna', 'good', 'got',\n",
       "       'government', 'great', 'grindr', 'group', 'groups', 'grow',\n",
       "       'growing', 'growth', 'guess', 'guide', 'guy', 'guys', 'hair',\n",
       "       'hair removal', 'handle', 'happen', 'happened', 'happens', 'happy',\n",
       "       'happy pride', 'hard', 'hate', 'hateful', 'haven', 'having',\n",
       "       'head', 'health', 'healthcare', 'hear', 'heard', 'heart', 'hell',\n",
       "       'hello', 'help', 'hey', 'hi', 'hide', 'high', 'history', 'hiv',\n",
       "       'holiday', 'holidays', 'home', 'homophobes', 'homophobia',\n",
       "       'homophobic', 'homosexuality', 'honest', 'hope', 'hormone',\n",
       "       'hormones', 'hospital', 'hot', 'house', 'hrt', 'hrt mtf', 'https',\n",
       "       'human', 'human rights', 'id', 'idea', 'ideas', 'identify',\n",
       "       'identities', 'identity', 'idk', 'im', 'im trans', 'important',\n",
       "       'including', 'inclusive', 'info', 'information', 'injections',\n",
       "       'inside', 'instagram', 'instead', 'insurance', 'interested',\n",
       "       'internalized', 'internalized transphobia', 'international',\n",
       "       'internet', 'intersex', 'interview', 'isn', 'issue', 'issues',\n",
       "       'ive', 'job', 'join', 'journey', 'june', 'just', 'just came',\n",
       "       'just got', 'just want', 'kakuma', 'kakuma refugee', 'kenya',\n",
       "       'kid', 'kids', 'kind', 'kinda', 'knew', 'know', 'know trans',\n",
       "       'known', 'labels', 'lack', 'lambda', 'lambda legal', 'laser',\n",
       "       'laser hair', 'late', 'later', 'latest', 'law', 'learn', 'leave',\n",
       "       'left', 'legal', 'lesbian', 'lesbians', 'let', 'let know', 'lets',\n",
       "       'letter', 'level', 'levels', 'lgbt', 'lgbt community',\n",
       "       'lgbt people', 'lgbt rights', 'lgbtq', 'lgbtq artists',\n",
       "       'lgbtq community', 'lgbtq people', 'lgbtqia', 'life', 'light',\n",
       "       'like', 'like girl', 'like trans', 'lil', 'link', 'list', 'listen',\n",
       "       'little', 'live', 'lives', 'living', 'll', 'local', 'lol', 'long',\n",
       "       'longer', 'look', 'look like', 'looking', 'looking advice',\n",
       "       'looks', 'lose', 'losing', 'lost', 'lot', 'loud', 'loud queer',\n",
       "       'love', 'low', 'lt', 'make', 'makes', 'makeup', 'making', 'male',\n",
       "       'man', 'marriage', 'married', 'masc', 'masculine', 'matter',\n",
       "       'maybe', 'mean', 'means', 'media', 'meet', 'member', 'members',\n",
       "       'men', 'men men', 'men pass', 'mental', 'mental health', 'message',\n",
       "       'met', 'middle', 'military', 'mind', 'misgendering', 'miss', 'mom',\n",
       "       'moment', 'money', 'month', 'months', 'months hrt', 'mother',\n",
       "       'movies', 'moving', 'mtf', 'mtf hrt', 'music', 'music video',\n",
       "       'names', 'national', 'nb', 'need', 'need advice', 'need help',\n",
       "       'needed', 'needs', 'netflix', 'neutral', 'new', 'news', 'nice',\n",
       "       'night', 'nipple', 'non', 'non binary', 'nonbinary',\n",
       "       'nonbinary people', 'normal', 'normal feel', 'notice', 'noticed',\n",
       "       'nsfw', 'offensive', 'oh', 'ok', 'okay', 'old', 'older', 'online',\n",
       "       'onlyfans', 'op', 'open', 'openly', 'opinion', 'opinions',\n",
       "       'opposite', 'options', 'orientation', 'owned', 'page', 'pain',\n",
       "       'pan', 'pansexual', 'parent', 'parenthood', 'parents', 'partner',\n",
       "       'party', 'pass', 'passing', 'past', 'penis', 'people',\n",
       "       'people valid', 'period', 'person', 'personal', 'petition',\n",
       "       'photo', 'photos', 'physical', 'picture', 'pictures', 'piece',\n",
       "       'pills', 'place', 'places', 'plan', 'planned',\n",
       "       'planned parenthood', 'planning', 'platform', 'play', 'playlist',\n",
       "       'pls', 'podcast', 'point', 'poland', 'police', 'political',\n",
       "       'positive', 'possible', 'post', 'post op', 'posted', 'posts',\n",
       "       'pre', 'pre transition', 'preferred', 'president', 'pretty',\n",
       "       'pride', 'pride flag', 'pride flags', 'pride month', 'pro',\n",
       "       'probably', 'problem', 'problems', 'process', 'profile',\n",
       "       'progesterone', 'progress', 'project', 'pronoun', 'pronouns',\n",
       "       'proud', 'puberty', 'public', 'qreview', 'qreview ca', 'queen',\n",
       "       'queer', 'queer music', 'question', 'questioning',\n",
       "       'questioning gender', 'questions', 'quick', 'race', 'rainbow',\n",
       "       'rant', 'reach', 'read', 'ready', 'real', 'realized', 'really',\n",
       "       'reason', 'recently', 'recommend', 'recommendations', 'red',\n",
       "       'reddit', 'refer', 'refugee', 'refugee camp', 'refugees',\n",
       "       'regarding', 'related', 'relationship', 'relationships',\n",
       "       'released', 'religious', 'remember', 'removal', 'report',\n",
       "       'representation', 'research', 'resources', 'response', 'results',\n",
       "       'right', 'rights', 'romantic', 'rule', 'rules', 'sad', 'safe',\n",
       "       'said', 'saw', 'say', 'saying', 'says', 'scared', 'school',\n",
       "       'season', 'second', 'seeing', 'seeking', 'seen', 'self', 'sense',\n",
       "       'series', 'server', 'session', 'sex', 'sex marriage', 'sexual',\n",
       "       'sexual orientation', 'sexuality', 'share', 'sharing', 'shaving',\n",
       "       'shirt', 'shit', 'short', 'short film', 'shot', 'shows', 'sibling',\n",
       "       'sick', 'sign', 'signs', 'similar', 'single', 'sister', 'site',\n",
       "       'situation', 'size', 'skin', 'small', 'social', 'social media',\n",
       "       'socially', 'society', 'son', 'song', 'soon', 'sorry', 'sound',\n",
       "       'south', 'space', 'spaces', 'specific', 'specifically', 'speech',\n",
       "       'spiro', 'sports', 'spread', 'srs', 'stand', 'start', 'start hrt',\n",
       "       'started', 'starting', 'starting hrt', 'state', 'states', 'stay',\n",
       "       'stickers', 'stop', 'stories', 'story', 'straight', 'struggle',\n",
       "       'struggling', 'stuck', 'student', 'students', 'study', 'stuff',\n",
       "       'stupid', 'sub', 'subreddit', 'subs', 'suggestions', 'suicide',\n",
       "       'super', 'support', 'supporting', 'supportive', 'supposed',\n",
       "       'supreme', 'supreme court', 'sure', 'surgery', 'survey',\n",
       "       'syndrome', 'taken', 'taking', 'talk', 'talking', 'teen', 'tell',\n",
       "       'telling', 'terf', 'term', 'terms', 'test', 'testosterone',\n",
       "       'texas', 'thank', 'thanks', 'thats', 'therapist', 'therapy',\n",
       "       'thing', 'things', 'think', 'thinking', 'thought', 'thoughts',\n",
       "       'tiktok', 'time', 'times', 'tips', 'tired', 'title', 'today',\n",
       "       'told', 'tomorrow', 'tonight', 'took', 'toxic', 'training',\n",
       "       'trans', 'trans community', 'trans friend', 'trans girl',\n",
       "       'trans just', 'trans man', 'trans men', 'trans mtf',\n",
       "       'trans people', 'trans person', 'trans woman', 'trans women',\n",
       "       'transfem', 'transgender', 'transgender people', 'transition',\n",
       "       'transitioned', 'transitioning', 'transmasc', 'transphobes',\n",
       "       'transphobia', 'transphobic', 'transwomen', 'treatment', 'tried',\n",
       "       'trouble', 'true', 'trump', 'try', 'trying', 'tuck', 'tucking',\n",
       "       'turn', 'turned', 'tv', 'tw', 'twitch', 'twitter', 'type', 'ugly',\n",
       "       'uk', 'understand', 'underwear', 'unsure', 'update', 'usa', 'use',\n",
       "       'used', 'using', 'valid', 've', 'vent', 'version', 'video',\n",
       "       'videos', 'virtual', 'visibility', 'voice', 'voice training',\n",
       "       'vote', 'vs', 'wait', 'wanna', 'want', 'wanted', 'wanted share',\n",
       "       'wanting', 'wants', 'warning', 'watch', 'watching', 'way', 'ways',\n",
       "       'wear', 'wearing', 'website', 'wedding', 'week', 'weekend',\n",
       "       'weeks', 'weight', 'weird', 'welcome', 'went', 'whats', 'white',\n",
       "       'wife', 'wish', 'woman', 'women', 'women pass', 'women women',\n",
       "       'womens', 'won', 'wondering', 'word', 'work', 'working', 'world',\n",
       "       'worried', 'worse', 'worst', 'worth', 'writing', 'wrong', 'wrote',\n",
       "       'yall', 'year', 'year old', 'years', 'years ago', 'yes',\n",
       "       'yesterday', 'yo', 'young', 'youre', 'youth', 'youtube'],\n",
       "      dtype=object)"
      ]
     },
     "execution_count": 382,
     "metadata": {},
     "output_type": "execute_result"
    }
   ],
   "source": [
    "tfidf_vect = TfidfVectorizer(stop_words='english', max_features=1_000, ngram_range=(1,2), )\n",
    "\n",
    "X_train_transformed = tfidf_vect.fit_transform(X_train)\n",
    "X_train_transformed\n",
    "\n",
    "X_train_transformed.A\n",
    "\n",
    "vocab = tfidf_vect.get_feature_names_out()\n",
    "vocab"
   ]
  }
 ],
 "metadata": {
  "interpreter": {
   "hash": "40d3a090f54c6569ab1632332b64b2c03c39dcf918b08424e98f38b5ae0af88f"
  },
  "kernelspec": {
   "display_name": "Python 3.9.7 64-bit ('base': conda)",
   "language": "python",
   "name": "python3"
  },
  "language_info": {
   "codemirror_mode": {
    "name": "ipython",
    "version": 3
   },
   "file_extension": ".py",
   "mimetype": "text/x-python",
   "name": "python",
   "nbconvert_exporter": "python",
   "pygments_lexer": "ipython3",
   "version": "3.9.7"
  },
  "orig_nbformat": 4
 },
 "nbformat": 4,
 "nbformat_minor": 2
}
